{
 "cells": [
  {
   "cell_type": "code",
   "execution_count": null,
   "metadata": {},
   "outputs": [],
   "source": [
    "import numpy as np\n",
    "import matplotlib.pyplot as plt\n",
    "\n",
    "from sympy import Matrix, sin, cos, Symbol"
   ]
  },
  {
   "cell_type": "code",
   "execution_count": 2,
   "metadata": {},
   "outputs": [],
   "source": [
    "rho = np.array([0.5, 0.5, 0.5])\n",
    "m = np.array([250., 25., 25.])\n",
    "I = np.array([25., 2.5, 2.5])\n",
    "\n",
    "C = lambda th: Matrix([[cos(th), -sin(th)], [sin(th), cos(th)]])\n",
    "D = lambda th: Matrix([[sin(th), cos(th)], [-cos(th), sin(th)]])"
   ]
  },
  {
   "cell_type": "code",
   "execution_count": null,
   "metadata": {},
   "outputs": [],
   "source": [
    "th_s = Symbol('th_s')\n",
    "th_1 = Symbol('th_1')\n",
    "th_2 = Symbol('th_2')\n",
    "dth_s = Symbol('dth_s')\n",
    "dth_1 = Symbol('dth_1')\n",
    "dth_2 = Symbol('dth_2')\n",
    "\n",
    "r_s = Matrix([0., 0.])\n",
    "r_1 = r_s + C(th_s)@(Matrix([rho[0], 0.]) + C(th_1)@Matrix([rho[1], 0.]))\n",
    "r_2 = r_1 + C(th_s)@C(th_1)@(Matrix([rho[1], 0.]) + C(th_2)@Matrix([rho[2], 0.]))\n",
    "\n",
    "v_1 = -dth_1*C(th_s)@D(th_1)@Matrix([rho[1], 0.]) + \\\n",
    "      -dth_s*D(th_s)@(Matrix([rho[0], 0.]) + C(th_1)@Matrix([rho[1], 0.]))\n",
    "v_2 = v_1 + -dth_2*C(th_s)@C(th_1)@D(th_2)@Matrix([rho[2], 0.]) + \\\n",
    "      -dth_s*D(th_s)@C(th_1)@(Matrix([rho[1], 0.]) + C(th_2)@Matrix([rho[2], 0.])) + \\\n",
    "      -dth_1*C(th_s)@D(th_1)@(Matrix([rho[1], 0.]) + C(th_2)@Matrix([rho[2], 0.]))\n",
    "\n",
    "L = 0.5*m[1]*v_1.dot(v_1) + 0.5*m[2]*v_2.dot(v_2) + 0.5*I[0]*dth_s**2 + \\\n",
    "    0.5*I[1]*dth_1**2 + 0.5*I[2]*dth_2**2"
   ]
  }
 ],
 "metadata": {
  "kernelspec": {
   "display_name": "py10",
   "language": "python",
   "name": "python3"
  },
  "language_info": {
   "codemirror_mode": {
    "name": "ipython",
    "version": 3
   },
   "file_extension": ".py",
   "mimetype": "text/x-python",
   "name": "python",
   "nbconvert_exporter": "python",
   "pygments_lexer": "ipython3",
   "version": "3.10.8"
  }
 },
 "nbformat": 4,
 "nbformat_minor": 2
}
