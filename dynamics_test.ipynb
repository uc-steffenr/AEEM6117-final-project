{
 "cells": [
  {
   "cell_type": "code",
   "execution_count": 9,
   "metadata": {},
   "outputs": [],
   "source": [
    "import numpy as np\n",
    "import matplotlib.pyplot as plt\n",
    "\n",
    "from sympy import Matrix, sin, cos, symbols, diff, simplify\n",
    "from sympy.physics.mechanics import dynamicsymbols"
   ]
  },
  {
   "cell_type": "code",
   "execution_count": 2,
   "metadata": {},
   "outputs": [],
   "source": [
    "rho = np.array([0.5, 0.5, 0.5])\n",
    "m = np.array([250., 25., 25.])\n",
    "I = np.array([25., 2.5, 2.5])\n",
    "\n",
    "C = lambda th: Matrix([[cos(th), -sin(th)], [sin(th), cos(th)]])\n",
    "D = lambda th: Matrix([[sin(th), cos(th)], [-cos(th), sin(th)]])"
   ]
  },
  {
   "cell_type": "code",
   "execution_count": null,
   "metadata": {},
   "outputs": [],
   "source": [
    "t = symbols('t')\n",
    "\n",
    "th_s = dynamicsymbols('theta_s')\n",
    "th_1 = dynamicsymbols('theta_1')\n",
    "th_2 = dynamicsymbols('theta_2')\n",
    "dth_s = diff(th_s, t)\n",
    "dth_1 = diff(th_1, t)\n",
    "dth_2 = diff(th_2, t)\n",
    "\n",
    "r_s = Matrix([0., 0.])\n",
    "r_1 = r_s + C(th_s)@(Matrix([rho[0], 0.]) + C(th_1)@Matrix([rho[1], 0.]))\n",
    "r_2 = r_1 + C(th_s)@C(th_1)@(Matrix([rho[1], 0.]) + C(th_2)@Matrix([rho[2], 0.]))\n",
    "\n",
    "v_s = diff(r_s, t)\n",
    "v_1 = diff(r_1, t)\n",
    "v_2 = diff(r_2, t)\n",
    "\n",
    "T = 0.5*m[0]*v_s.dot(v_s) + 0.5*m[1]*v_1.dot(v_1) + 0.5*m[2]*v_2.dot(v_2) + \\\n",
    "    0.5*I[0]*dth_s**2 + 0.5*I[1]*dth_1**2 + 0.5*I[2]*dth_2**2\n",
    "V = 0.\n",
    "\n",
    "L = simplify(T - V)"
   ]
  },
  {
   "cell_type": "code",
   "execution_count": 14,
   "metadata": {},
   "outputs": [],
   "source": [
    "dL_dth_s = diff(L, th_s)\n",
    "dL_dth_1 = diff(L, th_1)\n",
    "dL_dth_2 = diff(L, th_2)\n",
    "\n",
    "dL_ddth_s = diff(L, dth_s)\n",
    "dL_ddth_1 = diff(L, dth_1)\n",
    "dL_ddth_2 = diff(L, dth_2)\n",
    "\n",
    "dL_ddth_s_dt = diff(dL_ddth_s, t)\n",
    "dL_ddth_1_dt = diff(dL_ddth_1, t)\n",
    "dL_ddth_2_dt = diff(dL_ddth_2, t)\n",
    "\n",
    "th_s_eqn_lhs = simplify(dL_ddth_s_dt - dL_dth_s)\n",
    "th_1_eqn_lhs = simplify(dL_ddth_1_dt - dL_dth_1)\n",
    "th_2_eqn_lhs = simplify(dL_ddth_2_dt - dL_dth_2)"
   ]
  }
 ],
 "metadata": {
  "kernelspec": {
   "display_name": "py10",
   "language": "python",
   "name": "python3"
  },
  "language_info": {
   "codemirror_mode": {
    "name": "ipython",
    "version": 3
   },
   "file_extension": ".py",
   "mimetype": "text/x-python",
   "name": "python",
   "nbconvert_exporter": "python",
   "pygments_lexer": "ipython3",
   "version": "3.10.8"
  }
 },
 "nbformat": 4,
 "nbformat_minor": 2
}
