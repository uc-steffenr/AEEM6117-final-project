{
 "cells": [
  {
   "cell_type": "code",
   "execution_count": 1,
   "metadata": {},
   "outputs": [],
   "source": [
    "import numpy as np\n",
    "import matplotlib.pyplot as plt\n",
    "\n",
    "from sympy import (Matrix,\n",
    "                   sin,\n",
    "                   cos,\n",
    "                   symbols,\n",
    "                   MatrixSymbol,\n",
    "                   diff,\n",
    "                   simplify,\n",
    "                   Eq,\n",
    "                   linear_eq_to_matrix,\n",
    "                   pprint)\n",
    "from sympy.physics.mechanics import dynamicsymbols"
   ]
  },
  {
   "cell_type": "code",
   "execution_count": 2,
   "metadata": {},
   "outputs": [],
   "source": [
    "# rho = np.array([0.5, 0.5, 0.5])\n",
    "# m = np.array([250., 25., 25.])\n",
    "# I = np.array([25., 2.5, 2.5])\n",
    "# bs = b1 = b2 = 0. # parameters for non-conservative forces\n",
    "\n",
    "C = lambda th: Matrix([[cos(th), -sin(th)], [sin(th), cos(th)]])\n",
    "D = lambda th: Matrix([[sin(th), cos(th)], [-cos(th), sin(th)]])"
   ]
  },
  {
   "cell_type": "code",
   "execution_count": 3,
   "metadata": {},
   "outputs": [],
   "source": [
    "t = symbols('t')\n",
    "\n",
    "th_s, th_1, th_2, th_t = dynamicsymbols('theta_s theta_1 theta_2 theta_T')\n",
    "dth_s, dth_1, dth_2, dth_t = dynamicsymbols('theta_s theta_1 theta_2, theta_T', 1)\n",
    "ddth_s, ddth_1, ddth_2, ddth_t = dynamicsymbols('theta_s theta_1 theta_2, theta_T', 2)\n",
    "\n",
    "q = Matrix([th_s, th_1, th_2, th_t])\n",
    "qdot = Matrix([dth_s, dth_1, dth_2, dth_t])\n",
    "qddot = Matrix([ddth_s, ddth_1, ddth_2, ddth_t])\n",
    "\n",
    "y = q.row_insert(4, qdot)\n",
    "ydot = qdot.row_insert(4, qddot)\n",
    "\n",
    "tau_s = symbols('tau_s')\n",
    "tau_1 = symbols('tau_1')\n",
    "tau_2 = symbols('tau_2')\n",
    "\n",
    "tau = Matrix([tau_s, tau_1, tau_2])\n",
    "\n",
    "rho = symbols('rho_s rho_1 rho_2 rho_t')\n",
    "m = symbols('m_s m_1 m_2 m_t')\n",
    "I = symbols('I_s I_1 I_2 I_t')\n",
    "b = symbols('b_s b_1 b_2')\n",
    "\n",
    "# r_s = MatrixSymbol('r_s', 2, 1)\n",
    "r_s0, r_s1 = symbols('r_s0 r_s1')\n",
    "r_s = Matrix([r_s0, r_s1])\n",
    "\n",
    "r_1 = r_s + C(y[0])@(Matrix([rho[0], 0.]) + C(y[1])@Matrix([rho[1], 0.]))\n",
    "r_2 = r_1 + C(y[0])@C(y[1])@(Matrix([rho[1], 0.]) + C(y[2])@Matrix([rho[2], 0.]))\n",
    "# r_t = MatrixSymbol('r_t', 2, 1)\n",
    "r_t0, r_t1 = symbols('r_s0 r_s1')\n",
    "r_t = Matrix([r_t0, r_t1])\n",
    "\n",
    "r_c = r_t + C(y[3])@Matrix([0., rho[3]])\n",
    "\n",
    "ee = r_1 + C(y[0])@C(y[1])@(Matrix([rho[1], 0.]) + C(y[2])@Matrix([2.*rho[2], 0.]))\n",
    "J = ee.jacobian(q[:-1])\n",
    "\n",
    "# v_s = Matrix(diff(r_s, t))\n",
    "v_1 = Matrix(diff(r_1, t))\n",
    "v_2 = Matrix(diff(r_2, t))\n",
    "v_c = Matrix(diff(r_c, t))\n",
    "\n",
    "T = 0.5*m[1]*v_1.dot(v_1) + 0.5*m[2]*v_2.dot(v_2) + \\\n",
    "    0.5*m[3]*v_c.dot(v_c) + 0.5*I[0]*y[4]**2 + 0.5*I[1]*y[5]**2 + \\\n",
    "    0.5*I[2]*y[6]**2 + 0.5*I[3]*y[7]**2\n",
    "V = 0.\n",
    "\n",
    "L = simplify(T - V)"
   ]
  },
  {
   "cell_type": "code",
   "execution_count": 4,
   "metadata": {},
   "outputs": [],
   "source": [
    "dL_dth_s = diff(L, y[0])\n",
    "dL_dth_1 = diff(L, y[1])\n",
    "dL_dth_2 = diff(L, y[2])\n",
    "dL_dth_t = diff(L, y[3])\n",
    "\n",
    "dL_ddth_s = diff(L, y[4])\n",
    "dL_ddth_1 = diff(L, y[5])\n",
    "dL_ddth_2 = diff(L, y[6])\n",
    "dL_ddth_t = diff(L, y[7])\n",
    "\n",
    "dL_ddth_s_dt = diff(dL_ddth_s, t)\n",
    "dL_ddth_1_dt = diff(dL_ddth_1, t)\n",
    "dL_ddth_2_dt = diff(dL_ddth_2, t)\n",
    "dL_ddth_t_dt = diff(dL_ddth_t, t)\n",
    "\n",
    "th_s_eqn = Eq(simplify(dL_ddth_s_dt - dL_dth_s), tau[0] - b[0]*y[4])\n",
    "th_1_eqn = Eq(simplify(dL_ddth_1_dt - dL_dth_1), tau[1] - b[1]*y[5])\n",
    "th_2_eqn = Eq(simplify(dL_ddth_2_dt - dL_dth_2), tau[2] - b[2]*y[6])\n",
    "th_t_eqn = Eq(simplify(dL_ddth_t_dt - dL_dth_t), 0.)"
   ]
  },
  {
   "cell_type": "code",
   "execution_count": 5,
   "metadata": {},
   "outputs": [
    {
     "data": {
      "text/latex": [
       "$\\displaystyle 1.0 \\left(I_{t} + m_{t} \\rho_{t}^{2}\\right) \\frac{d^{2}}{d t^{2}} \\theta_{T}{\\left(t \\right)} = 0.0$"
      ],
      "text/plain": [
       "Eq(1.0*(I_t + m_t*rho_t**2)*Derivative(theta_T(t), (t, 2)), 0.0)"
      ]
     },
     "execution_count": 5,
     "metadata": {},
     "output_type": "execute_result"
    }
   ],
   "source": [
    "th_t_eqn"
   ]
  },
  {
   "cell_type": "code",
   "execution_count": 6,
   "metadata": {},
   "outputs": [],
   "source": [
    "eqs = [th_s_eqn.lhs - th_s_eqn.rhs,\n",
    "       th_1_eqn.lhs - th_1_eqn.rhs,\n",
    "       th_2_eqn.lhs - th_2_eqn.rhs,\n",
    "       th_t_eqn.lhs - th_t_eqn.rhs]\n",
    "\n",
    "A, B = linear_eq_to_matrix(eqs, qddot[0], qddot[1], qddot[2], qddot[3])"
   ]
  },
  {
   "cell_type": "code",
   "execution_count": 7,
   "metadata": {},
   "outputs": [],
   "source": [
    "from sympy import lambdify, matrix2numpy\n",
    "\n",
    "dynamics = lambdify((y, tau, r_s, r_t, rho, m, I , b), matrix2numpy(A.LUsolve(B).T), \"numpy\")\n",
    "pos_func = lambdify((y, r_s, r_t, rho), (matrix2numpy(r_1.T), matrix2numpy(r_2.T),  matrix2numpy(r_c.T)), \"numpy\")\n",
    "vel_func = lambdify((y, r_s, r_t, rho), (matrix2numpy(v_1.T), matrix2numpy(v_2.T),  matrix2numpy(v_c.T)), \"numpy\")\n",
    "ee_func = lambdify((y, r_s, rho), matrix2numpy(ee.T), \"numpy\")\n",
    "J_func = lambdify((y, rho), matrix2numpy(J), \"numpy\")"
   ]
  },
  {
   "cell_type": "code",
   "execution_count": 8,
   "metadata": {},
   "outputs": [
    {
     "name": "stdout",
     "output_type": "stream",
     "text": [
      "[[-0.02223101  0.05148234 -0.04680213  0.        ]]\n",
      "(array([[[3.],\n",
      "        [0.]]]), array([[[4.],\n",
      "        [0.]]]), array([[[2. ],\n",
      "        [0.5]]]))\n",
      "(array([[-0.,  0.]]), array([[0., 0.]]), array([[-0., -0.]]))\n"
     ]
    }
   ],
   "source": [
    "y = np.zeros(8)\n",
    "u = np.zeros(3)\n",
    "u[1] = np.deg2rad(30.)\n",
    "\n",
    "r_s = np.array([[0.], [0.]])\n",
    "r_t = np.array([[2.], [0.]])\n",
    "\n",
    "rho = np.array([0.5, 0.5, 0.5, 0.5])\n",
    "m = np.array([250., 25., 25., 180.])\n",
    "I = np.array([25., 2.5, 2.5, 18.])\n",
    "b = np.zeros(3)\n",
    "\n",
    "print(dynamics(y, u, r_s, r_t, rho, m, I, b))\n",
    "print(pos_func(y, r_s, r_t, rho))\n",
    "print(vel_func(y, r_s, r_t, rho))"
   ]
  },
  {
   "cell_type": "code",
   "execution_count": 10,
   "metadata": {},
   "outputs": [
    {
     "name": "stdout",
     "output_type": "stream",
     "text": [
      "[[[2.5]\n",
      "  [0. ]]]\n"
     ]
    }
   ],
   "source": [
    "print(ee_func(y, r_s, rho))"
   ]
  },
  {
   "cell_type": "code",
   "execution_count": 11,
   "metadata": {},
   "outputs": [
    {
     "name": "stdout",
     "output_type": "stream",
     "text": [
      "[[-0.  -0.  -0. ]\n",
      " [ 2.5  2.   1. ]]\n"
     ]
    }
   ],
   "source": [
    "print(J_func(y, rho))"
   ]
  },
  {
   "cell_type": "code",
   "execution_count": 12,
   "metadata": {},
   "outputs": [],
   "source": [
    "import dill\n",
    "\n",
    "with open('dynamics.pkl', \"wb\") as f:\n",
    "    dill.dump(dynamics, f)\n",
    "\n",
    "with open('position.pkl', \"wb\") as f:\n",
    "    dill.dump(pos_func, f)\n",
    "\n",
    "with open('velocity.pkl', \"wb\") as f:\n",
    "    dill.dump(vel_func, f)\n",
    "\n",
    "with open('ee.pkl', 'wb') as f:\n",
    "    dill.dump(ee_func, f)\n",
    "\n",
    "with open('Je.pkl', 'wb') as f:\n",
    "    dill.dump(J_func, f)"
   ]
  }
 ],
 "metadata": {
  "kernelspec": {
   "display_name": "remi_env",
   "language": "python",
   "name": "python3"
  },
  "language_info": {
   "codemirror_mode": {
    "name": "ipython",
    "version": 3
   },
   "file_extension": ".py",
   "mimetype": "text/x-python",
   "name": "python",
   "nbconvert_exporter": "python",
   "pygments_lexer": "ipython3",
   "version": "3.10.16"
  }
 },
 "nbformat": 4,
 "nbformat_minor": 2
}
