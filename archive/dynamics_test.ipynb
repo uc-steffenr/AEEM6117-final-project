{
 "cells": [
  {
   "cell_type": "code",
   "execution_count": 1,
   "metadata": {},
   "outputs": [],
   "source": [
    "import numpy as np\n",
    "import matplotlib.pyplot as plt\n",
    "\n",
    "from sympy import (Matrix,\n",
    "                   sin,\n",
    "                   cos,\n",
    "                   symbols,\n",
    "                   diff,\n",
    "                   simplify,\n",
    "                   Eq,\n",
    "                   linear_eq_to_matrix)\n",
    "from sympy.physics.mechanics import dynamicsymbols"
   ]
  },
  {
   "cell_type": "code",
   "execution_count": 2,
   "metadata": {},
   "outputs": [],
   "source": [
    "# rho = np.array([0.5, 0.5, 0.5])\n",
    "# m = np.array([250., 25., 25.])\n",
    "# I = np.array([25., 2.5, 2.5])\n",
    "# bs = b1 = b2 = 0. # parameters for non-conservative forces\n",
    "\n",
    "C = lambda th: Matrix([[cos(th), -sin(th)], [sin(th), cos(th)]])\n",
    "D = lambda th: Matrix([[sin(th), cos(th)], [-cos(th), sin(th)]])"
   ]
  },
  {
   "cell_type": "code",
   "execution_count": 3,
   "metadata": {},
   "outputs": [],
   "source": [
    "t = symbols('t')\n",
    "\n",
    "th_s, th_1, th_2 = dynamicsymbols('theta_s theta_1 theta_2')\n",
    "dth_s, dth_1, dth_2 = dynamicsymbols('theta_s theta_1 theta_2', 1)\n",
    "ddth_s, ddth_1, ddth_2 = dynamicsymbols('theta_s theta_1 theta_2', 2)\n",
    "\n",
    "q = Matrix([th_s, th_1, th_2])\n",
    "qdot = Matrix([dth_s, dth_1, dth_2])\n",
    "qddot = Matrix([ddth_s, ddth_1, ddth_2])\n",
    "\n",
    "y = q.row_insert(3, qdot)\n",
    "ydot = qdot.row_insert(3, qddot)\n",
    "\n",
    "tau_s = symbols('tau_s')\n",
    "tau_1 = symbols('tau_1')\n",
    "tau_2 = symbols('tau_2')\n",
    "\n",
    "tau = Matrix([tau_s, tau_1, tau_2])\n",
    "\n",
    "rho = symbols('rho_s rho_1 rho_2')\n",
    "m = symbols('m_s m_1 m_2')\n",
    "I = symbols('I_s I_1 I_2')\n",
    "b = symbols('b_s b_1 b_2')\n",
    "\n",
    "r_s = Matrix([0., 0.])\n",
    "r_1 = r_s + C(y[0])@(Matrix([rho[0], 0.]) + C(y[1])@Matrix([rho[1], 0.]))\n",
    "r_2 = r_1 + C(y[0])@C(y[1])@(Matrix([rho[1], 0.]) + C(y[2])@Matrix([rho[2], 0.]))\n",
    "\n",
    "v_s = diff(r_s, t)\n",
    "v_1 = diff(r_1, t)\n",
    "v_2 = diff(r_2, t)\n",
    "\n",
    "T = 0.5*m[0]*v_s.dot(v_s) + 0.5*m[1]*v_1.dot(v_1) + 0.5*m[2]*v_2.dot(v_2) + \\\n",
    "    0.5*I[0]*y[3]**2 + 0.5*I[1]*y[4]**2 + 0.5*I[2]*y[5]**2\n",
    "V = 0.\n",
    "\n",
    "L = simplify(T - V)"
   ]
  },
  {
   "cell_type": "code",
   "execution_count": 4,
   "metadata": {},
   "outputs": [],
   "source": [
    "dL_dth_s = diff(L, y[0])\n",
    "dL_dth_1 = diff(L, y[1])\n",
    "dL_dth_2 = diff(L, y[2])\n",
    "\n",
    "dL_ddth_s = diff(L, y[3])\n",
    "dL_ddth_1 = diff(L, y[4])\n",
    "dL_ddth_2 = diff(L, y[5])\n",
    "\n",
    "dL_ddth_s_dt = diff(dL_ddth_s, t)\n",
    "dL_ddth_1_dt = diff(dL_ddth_1, t)\n",
    "dL_ddth_2_dt = diff(dL_ddth_2, t)\n",
    "\n",
    "th_s_eqn = Eq(simplify(dL_ddth_s_dt - dL_dth_s), tau[0] - b[0]*y[3])\n",
    "th_1_eqn = Eq(simplify(dL_ddth_1_dt - dL_dth_1), tau[1] - b[1]*y[4])\n",
    "th_2_eqn = Eq(simplify(dL_ddth_2_dt - dL_dth_2), tau[2] - b[2]*y[5])"
   ]
  },
  {
   "cell_type": "code",
   "execution_count": 5,
   "metadata": {},
   "outputs": [],
   "source": [
    "eqs = [th_s_eqn.lhs - th_s_eqn.rhs,\n",
    "       th_1_eqn.lhs - th_1_eqn.rhs,\n",
    "       th_2_eqn.lhs - th_2_eqn.rhs]\n",
    "\n",
    "A, B = linear_eq_to_matrix(eqs, qddot[0], qddot[1], qddot[2])"
   ]
  },
  {
   "cell_type": "code",
   "execution_count": 8,
   "metadata": {},
   "outputs": [],
   "source": [
    "from sympy import lambdify, matrix2numpy\n",
    "\n",
    "dynamics = lambdify((y, tau, rho, m, I , b), matrix2numpy(A.LUsolve(B).T), \"numpy\")\n",
    "pos_func = lambdify((y, rho), (matrix2numpy(r_s.T), matrix2numpy(r_1.T), matrix2numpy(r_2.T)), \"numpy\")\n",
    "vel_func = lambdify((y, rho), (matrix2numpy(v_s.T), matrix2numpy(v_1.T), matrix2numpy(v_2.T)), \"numpy\")"
   ]
  },
  {
   "cell_type": "code",
   "execution_count": 9,
   "metadata": {},
   "outputs": [
    {
     "name": "stdout",
     "output_type": "stream",
     "text": [
      "[[-0.02223101  0.05148234 -0.04680213]]\n",
      "(array([[0, 0]]), array([[1., 0.]]), array([[2., 0.]]))\n",
      "(array([[0, 0]]), array([[-0.,  0.]]), array([[0., 0.]]))\n"
     ]
    }
   ],
   "source": [
    "y = np.zeros(6)\n",
    "u = np.zeros(3)\n",
    "u[1] = np.deg2rad(30.)\n",
    "\n",
    "rho = np.array([0.5, 0.5, 0.5])\n",
    "m = np.array([250., 25., 25.])\n",
    "I = np.array([25., 2.5, 2.5])\n",
    "b = np.zeros(3)\n",
    "\n",
    "print(dynamics(y, u, rho, m, I, b))\n",
    "print(pos_func(y, rho))\n",
    "print(vel_func(y, rho))"
   ]
  },
  {
   "cell_type": "code",
   "execution_count": null,
   "metadata": {},
   "outputs": [],
   "source": [
    "import dill\n",
    "\n",
    "with open('dynamics.pkl', \"wb\") as f:\n",
    "    dill.dump(dynamics, f)\n",
    "\n",
    "with open('position.pkl', \"wb\") as f:\n",
    "    dill.dump(pos_func, f)\n",
    "\n",
    "with open('velocity.pkl', \"wb\") as f:\n",
    "    dill.dump(vel_func, f)"
   ]
  }
 ],
 "metadata": {
  "kernelspec": {
   "display_name": "py10",
   "language": "python",
   "name": "python3"
  },
  "language_info": {
   "codemirror_mode": {
    "name": "ipython",
    "version": 3
   },
   "file_extension": ".py",
   "mimetype": "text/x-python",
   "name": "python",
   "nbconvert_exporter": "python",
   "pygments_lexer": "ipython3",
   "version": "3.10.8"
  }
 },
 "nbformat": 4,
 "nbformat_minor": 2
}
