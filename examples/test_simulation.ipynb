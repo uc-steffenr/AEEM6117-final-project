{
 "cells": [
  {
   "cell_type": "code",
   "execution_count": 1,
   "id": "c2fe0e5c",
   "metadata": {},
   "outputs": [
    {
     "name": "stdout",
     "output_type": "stream",
     "text": [
      "REPO_DIR = C:\\Git\\IntelligentRobotics-FinalProject\\AEEM6117-final-project\t REMI_DIR = C:\\Git\\IntelligentRobotics-FinalProject\\AEEM6117-final-project\\remi\n",
      "__file__ = C:\\Git\\IntelligentRobotics-FinalProject\\AEEM6117-final-project\\remi\\src\\utils.py\n"
     ]
    }
   ],
   "source": [
    "import os\n",
    "import numpy as np\n",
    "\n",
    "from remi import System, Simulation"
   ]
  },
  {
   "cell_type": "code",
   "execution_count": 2,
   "id": "2a155d6a",
   "metadata": {},
   "outputs": [],
   "source": [
    "# Physical Parameters\n",
    "r_s = np.array([-1.5, 0.0])\n",
    "r_t = np.array([1.5, 0.0])\n",
    "rho = np.array([0.5, 0.5, 0.5, 0.5])\n",
    "m = np.array([250.0, 25.0, 25.0, 180.0])\n",
    "I = np.array([25.0, 2.5, 2.5, 18.0])\n",
    "b = np.array([1.0, 1.0, 1.0])\n",
    "\n",
    "# Simulation Settings\n",
    "t_dur = 10.0\n",
    "step_size = 0.01\n",
    "tol = 0.01\n",
    "max_tau = (10.0, 10.0, 10.0)\n",
    "\n",
    "# Initial Conditions\n",
    "y0_1 = np.array(\n",
    "    [0.0, 0.0, 0.0, 0.0, np.deg2rad(5.0), np.deg2rad(10.0), 0.0, np.deg2rad(-5.0)]\n",
    ")\n",
    "y0_2 = np.zeros(8)\n",
    "\n",
    "\n",
    "# Put parameters and settings in dict\n",
    "parameters = dict(r_s=r_s, r_t=r_t, rho=rho, m=m, I=I, b=b)\n",
    "\n",
    "settings = dict(t_dur=t_dur, step_size=step_size, tol=tol, max_tau=max_tau)\n",
    "\n",
    "n_proc = 4  # number of processes for parallel computing\n",
    "sim = Simulation([y0_1, y0_2], parameters, settings, n_proc)"
   ]
  },
  {
   "cell_type": "markdown",
   "id": "a882e02e",
   "metadata": {},
   "source": [
    "### Run Simulations in Serial"
   ]
  },
  {
   "cell_type": "code",
   "execution_count": 3,
   "id": "518171cd",
   "metadata": {},
   "outputs": [
    {
     "name": "stdout",
     "output_type": "stream",
     "text": [
      "WARNING: 'float' object is not subscriptable\n",
      "WARNING: 'float' object is not subscriptable\n",
      "{'ts': [array([0.]), array([0.])], 'ys': [array([[ 0.        ,  0.        ,  0.        ,  0.        ,  0.08726646,\n",
      "         0.17453293,  0.        , -0.08726646]]), array([[0., 0., 0., 0., 0., 0., 0., 0.]])], 'us': [array([[0., 0., 0.]]), array([[0., 0., 0.]])], 'statuses': [-1, -1]}\n"
     ]
    }
   ],
   "source": [
    "metrics = sim.run_simulations()\n",
    "print(metrics)"
   ]
  },
  {
   "cell_type": "code",
   "execution_count": 4,
   "id": "6f35a415",
   "metadata": {},
   "outputs": [
    {
     "name": "stdout",
     "output_type": "stream",
     "text": [
      "Metrics dict keys: ['ts', 'ys', 'us', 'statuses']\n"
     ]
    }
   ],
   "source": [
    "keys = list(metrics.keys())\n",
    "print(f\"Metrics dict keys: {keys}\")"
   ]
  },
  {
   "cell_type": "markdown",
   "id": "a1f9c6cf",
   "metadata": {},
   "source": [
    "### Run Simulations in Parallel"
   ]
  },
  {
   "cell_type": "code",
   "execution_count": 5,
   "id": "083a3419",
   "metadata": {},
   "outputs": [],
   "source": [
    "metrics = sim.run_parallel_simulations()"
   ]
  },
  {
   "cell_type": "code",
   "execution_count": 6,
   "id": "024352da",
   "metadata": {},
   "outputs": [
    {
     "data": {
      "text/plain": [
       "[-1, -1]"
      ]
     },
     "execution_count": 6,
     "metadata": {},
     "output_type": "execute_result"
    }
   ],
   "source": [
    "metrics[\"statuses\"]"
   ]
  }
 ],
 "metadata": {
  "kernelspec": {
   "display_name": "remi",
   "language": "python",
   "name": "python3"
  },
  "language_info": {
   "codemirror_mode": {
    "name": "ipython",
    "version": 3
   },
   "file_extension": ".py",
   "mimetype": "text/x-python",
   "name": "python",
   "nbconvert_exporter": "python",
   "pygments_lexer": "ipython3",
   "version": "3.12.9"
  }
 },
 "nbformat": 4,
 "nbformat_minor": 5
}
