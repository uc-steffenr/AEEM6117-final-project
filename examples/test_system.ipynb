{
 "cells": [
  {
   "cell_type": "code",
   "execution_count": 1,
   "id": "0b5367b5",
   "metadata": {},
   "outputs": [],
   "source": [
    "import numpy as np\n",
    "\n",
    "from remi import System"
   ]
  },
  {
   "cell_type": "code",
   "execution_count": 2,
   "id": "d2627a9e",
   "metadata": {},
   "outputs": [],
   "source": [
    "r_s = np.array([0., 0.])\n",
    "r_t = np.array([3., 0.])\n",
    "\n",
    "rho = np.array([0.5, 0.5, 0.5, 0.5])\n",
    "m = np.array([250., 25., 25., 180.])\n",
    "I = np.array([25., 2.5, 2.5, 18.])\n",
    "b = np.array([1., 1., 1.])\n",
    "\n",
    "t_dur = 10.\n",
    "step_size = 0.01\n",
    "tol = 0.01\n",
    "max_tau = (10., 10., 10.)\n",
    "\n",
    "y0 = np.array([0., 0., 0., 0., np.deg2rad(5.), np.deg2rad(10.), 0., np.deg2rad(-5.)])\n",
    "\n",
    "parameters = dict(r_s=r_s,\n",
    "                  r_t=r_t,\n",
    "                  rho=rho,\n",
    "                  m=m,\n",
    "                  I=I,\n",
    "                  b=b)\n",
    "\n",
    "settings = dict(t_dur=t_dur,\n",
    "                step_size=step_size,\n",
    "                tol=tol,\n",
    "                max_tau=max_tau)\n",
    "\n",
    "sys = System(y0, parameters, settings)"
   ]
  },
  {
   "cell_type": "code",
   "execution_count": 3,
   "id": "dc834ca2",
   "metadata": {},
   "outputs": [],
   "source": [
    "def event(t, y, tol):\n",
    "    return t >= 5.\n",
    "\n",
    "def controls(t, y):\n",
    "    return np.zeros(3)"
   ]
  },
  {
   "cell_type": "code",
   "execution_count": 4,
   "id": "31476ae7",
   "metadata": {},
   "outputs": [],
   "source": [
    "sys.set_controller(controls)\n",
    "sys.set_event(event)"
   ]
  },
  {
   "cell_type": "code",
   "execution_count": 5,
   "id": "6b852758",
   "metadata": {},
   "outputs": [],
   "source": [
    "sol = sys.run()"
   ]
  },
  {
   "cell_type": "code",
   "execution_count": 6,
   "id": "1b257d4f",
   "metadata": {},
   "outputs": [
    {
     "data": {
      "text/plain": [
       "1"
      ]
     },
     "execution_count": 6,
     "metadata": {},
     "output_type": "execute_result"
    }
   ],
   "source": [
    "sol.status"
   ]
  },
  {
   "cell_type": "code",
   "execution_count": 7,
   "id": "2f7ea7a9",
   "metadata": {},
   "outputs": [
    {
     "data": {
      "text/plain": [
       "5.0"
      ]
     },
     "execution_count": 7,
     "metadata": {},
     "output_type": "execute_result"
    }
   ],
   "source": [
    "sol.t[-1]"
   ]
  }
 ],
 "metadata": {
  "kernelspec": {
   "display_name": "remi_env",
   "language": "python",
   "name": "python3"
  },
  "language_info": {
   "codemirror_mode": {
    "name": "ipython",
    "version": 3
   },
   "file_extension": ".py",
   "mimetype": "text/x-python",
   "name": "python",
   "nbconvert_exporter": "python",
   "pygments_lexer": "ipython3",
   "version": "3.10.16"
  }
 },
 "nbformat": 4,
 "nbformat_minor": 5
}
