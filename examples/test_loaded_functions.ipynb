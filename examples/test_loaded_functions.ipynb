{
 "cells": [
  {
   "cell_type": "code",
   "execution_count": 1,
   "id": "bd9a566e",
   "metadata": {},
   "outputs": [],
   "source": [
    "import numpy as np\n",
    "from remi.dynamics import forward_dynamics, inverse_dynamics\n",
    "from remi.clik_functions import calc_clik_params\n",
    "from remi.kinematics import (calc_critical_positions,\n",
    "                             calc_capture_point_position,\n",
    "                             calc_end_effector_position,\n",
    "                             calc_obstacle_point_positions,\n",
    "                             calc_critical_velocities,\n",
    "                             calc_capture_point_velocity,\n",
    "                             calc_end_effector_velocity,\n",
    "                             calc_obstacle_point_velocities,\n",
    "                             calc_capture_point_acceleration,\n",
    "                             calc_J,\n",
    "                             calc_J_dot)"
   ]
  },
  {
   "cell_type": "code",
   "execution_count": 2,
   "id": "490ea0fd",
   "metadata": {},
   "outputs": [],
   "source": [
    "y = np.zeros(8)\n",
    "u = np.zeros(4)\n",
    "u[1] = np.deg2rad(30.)\n",
    "\n",
    "r_s = np.array([-1.5, 0.])\n",
    "r_t = np.array([1.5, 0.])\n",
    "\n",
    "rho = np.array([0.5, 0.5, 0.5, 0.5])\n",
    "m = np.array([250., 25., 25., 180.])\n",
    "I = np.array([25., 2.5, 2.5, 18.])\n",
    "d = np.zeros(4)\n",
    "\n",
    "p = np.ones(3)\n",
    "w = np.ones(6)\n",
    "q_bar = np.zeros(3)\n",
    "q_max = np.ones(3)*np.pi\n",
    "q_min = np.ones(3)*-np.pi"
   ]
  },
  {
   "cell_type": "code",
   "execution_count": 3,
   "id": "837b83c4",
   "metadata": {},
   "outputs": [
    {
     "data": {
      "text/plain": [
       "(array([[0.],\n",
       "        [0.]]),\n",
       " array([[0.5],\n",
       "        [0. ]]),\n",
       " array([[1.],\n",
       "        [0.]]))"
      ]
     },
     "execution_count": 3,
     "metadata": {},
     "output_type": "execute_result"
    }
   ],
   "source": [
    "calc_critical_positions(y, rho, r_s)"
   ]
  },
  {
   "cell_type": "code",
   "execution_count": 4,
   "id": "86a27a66",
   "metadata": {},
   "outputs": [
    {
     "data": {
      "text/plain": [
       "(array([[41.91, 29.7 ,  5.28]]), array([[0., 0., 0.]]))"
      ]
     },
     "execution_count": 4,
     "metadata": {},
     "output_type": "execute_result"
    }
   ],
   "source": [
    "calc_clik_params(y, rho, r_s, r_t, p, q_bar, q_max, q_min, w)"
   ]
  },
  {
   "cell_type": "code",
   "execution_count": 5,
   "id": "ff489de8",
   "metadata": {},
   "outputs": [
    {
     "data": {
      "text/plain": [
       "array([-0.02223101,  0.05148234, -0.04680213,  0.        ])"
      ]
     },
     "execution_count": 5,
     "metadata": {},
     "output_type": "execute_result"
    }
   ],
   "source": [
    "forward_dynamics(y, u, r_s, r_t, rho, m, I, d)"
   ]
  },
  {
   "cell_type": "code",
   "execution_count": 6,
   "id": "a25e68fc",
   "metadata": {},
   "outputs": [
    {
     "data": {
      "text/plain": [
       "array([262.5 , 171.25,  52.5 ,  18.  ])"
      ]
     },
     "execution_count": 6,
     "metadata": {},
     "output_type": "execute_result"
    }
   ],
   "source": [
    "inverse_dynamics(y, np.ones(4), r_s, r_t, rho, m, I, d)"
   ]
  }
 ],
 "metadata": {
  "kernelspec": {
   "display_name": "remi_env",
   "language": "python",
   "name": "python3"
  },
  "language_info": {
   "codemirror_mode": {
    "name": "ipython",
    "version": 3
   },
   "file_extension": ".py",
   "mimetype": "text/x-python",
   "name": "python",
   "nbconvert_exporter": "python",
   "pygments_lexer": "ipython3",
   "version": "3.10.16"
  }
 },
 "nbformat": 4,
 "nbformat_minor": 5
}
