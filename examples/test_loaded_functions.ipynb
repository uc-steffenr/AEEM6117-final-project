{
 "cells": [
  {
   "cell_type": "code",
   "execution_count": 1,
   "id": "bd9a566e",
   "metadata": {},
   "outputs": [],
   "source": [
    "import numpy as np\n",
    "from remi import (load_ee_func,\n",
    "                  load_Je_func,\n",
    "                  load_position_func,\n",
    "                  load_velocity_func)"
   ]
  },
  {
   "cell_type": "code",
   "execution_count": 2,
   "id": "490ea0fd",
   "metadata": {},
   "outputs": [],
   "source": [
    "r_s = np.array([-1.5, 0.])              # central satellite position\n",
    "r_t = np.array([1.5, 0.])               # central target position\n",
    "rho = np.array([0.5, 0.5, 0.5, 0.5])    # dimension array\n",
    "\n",
    "y0 = np.array([0.,                      # theta_s\n",
    "               np.deg2rad(30.),         # theta_1\n",
    "               0.,                      # theta_2\n",
    "               0.,                      # theta_t\n",
    "               np.deg2rad(5.),          # theta_dot_s\n",
    "               np.deg2rad(10.),         # theta_dot_1\n",
    "               0.,                      # theta_dot_2\n",
    "               np.deg2rad(-5.)          # theta_dot_t\n",
    "               ])                       # initial conditions"
   ]
  },
  {
   "cell_type": "code",
   "execution_count": 3,
   "id": "722730f4",
   "metadata": {},
   "outputs": [],
   "source": [
    "ee = load_ee_func()\n",
    "Je = load_Je_func()\n",
    "pos = load_position_func()\n",
    "vel = load_velocity_func()"
   ]
  },
  {
   "cell_type": "markdown",
   "id": "99aba81b",
   "metadata": {},
   "source": [
    "### Position Function\n",
    "**Input**: state, central position of satellite, central position of target, dimension array (rho) \\\n",
    "**Output**: central position of link 1, central position of link 2, capture point position\n",
    "\n",
    "**NOTE**: `r_s` and `r_t` need to be arrays of shape (2, 1) and not just (2,)"
   ]
  },
  {
   "cell_type": "code",
   "execution_count": 4,
   "id": "8d5a5566",
   "metadata": {},
   "outputs": [
    {
     "data": {
      "text/plain": [
       "(array([[-0.5669873,  0.25     ]]),\n",
       " array([[0.29903811, 0.75      ]]),\n",
       " array([[1.5, 0.5]]))"
      ]
     },
     "execution_count": 4,
     "metadata": {},
     "output_type": "execute_result"
    }
   ],
   "source": [
    "pos(y0, r_s[:, None], r_t[:, None], rho)"
   ]
  },
  {
   "cell_type": "markdown",
   "id": "b2384b77",
   "metadata": {},
   "source": [
    "### Velocity Function\n",
    "**Input**: state, central position of satellite, central position of target, dimension array (rho) \\\n",
    "**Output**: velocity of link 1, velocity of link2, capture point velocity\n",
    "\n",
    "**NOTE**: `r_s` and `r_t` need to be arrays of shape (2, 1) and not just (2,)"
   ]
  },
  {
   "cell_type": "code",
   "execution_count": 5,
   "id": "557fd628",
   "metadata": {},
   "outputs": [
    {
     "data": {
      "text/plain": [
       "(array([[-0.06544985,  0.15699569]]),\n",
       " array([[-0.19634954,  0.38372061]]),\n",
       " array([[0.04363323, 0.        ]]))"
      ]
     },
     "execution_count": 5,
     "metadata": {},
     "output_type": "execute_result"
    }
   ],
   "source": [
    "vel(y0, r_s[:, None], r_t[:, None], rho)"
   ]
  },
  {
   "cell_type": "markdown",
   "id": "f1d34419",
   "metadata": {},
   "source": [
    "### End Effector Function\n",
    "**Input**: state, central position of the satellite, dimension array (rho) \\\n",
    "**Output**: end effector position\n",
    "\n",
    "**NOTE**: `r_s` must be of shape (2, 1) and not just (2,)"
   ]
  },
  {
   "cell_type": "code",
   "execution_count": 6,
   "id": "7d4d24b9",
   "metadata": {},
   "outputs": [
    {
     "data": {
      "text/plain": [
       "array([[[0.73205081],\n",
       "        [1.        ]]])"
      ]
     },
     "execution_count": 6,
     "metadata": {},
     "output_type": "execute_result"
    }
   ],
   "source": [
    "ee(y0, r_s[:, None], rho)"
   ]
  },
  {
   "cell_type": "markdown",
   "id": "3650622e",
   "metadata": {},
   "source": [
    "### Jacobian of End Effector Function\n",
    "**Input**: state, dimension array (rho) \\\n",
    "**Output**: Jacobian of end effector"
   ]
  },
  {
   "cell_type": "code",
   "execution_count": 7,
   "id": "7b144fc5",
   "metadata": {},
   "outputs": [
    {
     "name": "stdout",
     "output_type": "stream",
     "text": [
      "[[-1.         -1.         -0.5       ]\n",
      " [ 2.23205081  1.73205081  0.8660254 ]]\n"
     ]
    }
   ],
   "source": [
    "J = Je(y0, rho)\n",
    "print(J)"
   ]
  },
  {
   "cell_type": "markdown",
   "id": "16dccf57",
   "metadata": {},
   "source": [
    "### Psuedo-Inverse of Jacobian\n",
    "\n",
    "**NOTE**: Having all 0s (and 180s) could yield non-singular Jacobian psuedo-inverse"
   ]
  },
  {
   "cell_type": "code",
   "execution_count": 8,
   "id": "4c34b0f9",
   "metadata": {},
   "outputs": [
    {
     "data": {
      "text/plain": [
       "array([[ 3.46410162,  2.        ],\n",
       "       [-3.57128129, -1.6       ],\n",
       "       [-1.78564065, -0.8       ]])"
      ]
     },
     "execution_count": 8,
     "metadata": {},
     "output_type": "execute_result"
    }
   ],
   "source": [
    "J.T@np.linalg.inv(J@J.T)"
   ]
  }
 ],
 "metadata": {
  "kernelspec": {
   "display_name": "remi_env",
   "language": "python",
   "name": "python3"
  },
  "language_info": {
   "codemirror_mode": {
    "name": "ipython",
    "version": 3
   },
   "file_extension": ".py",
   "mimetype": "text/x-python",
   "name": "python",
   "nbconvert_exporter": "python",
   "pygments_lexer": "ipython3",
   "version": "3.10.16"
  }
 },
 "nbformat": 4,
 "nbformat_minor": 5
}
