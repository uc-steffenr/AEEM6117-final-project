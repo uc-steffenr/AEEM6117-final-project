{
 "cells": [
  {
   "cell_type": "code",
   "execution_count": null,
   "id": "ebcba126",
   "metadata": {},
   "outputs": [],
   "source": [
    "import os\n",
    "import numpy as np\n",
    "\n",
    "from remi.system import System\n",
    "from remi.visualize import plot_states, plot_controls, animate\n",
    "from remi.kinematics import (calc_capture_point_position,\n",
    "                             calc_end_effector_position,\n",
    "                             calc_capture_point_acceleration)"
   ]
  },
  {
   "cell_type": "code",
   "execution_count": null,
   "id": "e2c91441",
   "metadata": {},
   "outputs": [],
   "source": [
    "# Physical Parameters\n",
    "r_s = np.array([-1.25, 0.])\n",
    "r_t = np.array([1.25, 0.])\n",
    "rho = np.array([0.5, 0.5, 0.5, 0.5])\n",
    "m = np.array([250., 25., 25., 180.])\n",
    "I = np.array([25., 2.5, 2.5, 18.])\n",
    "d = np.zeros(4)\n",
    "\n",
    "# Simulation Settings\n",
    "t_dur = 10.\n",
    "step_size = 0.01\n",
    "tol = 0.01\n",
    "max_tau = (10., 10., 10., 0.)\n",
    "\n",
    "# Initial Conditions\n",
    "y0 = np.array([np.pi/2.,    # theta_s\n",
    "               -0.3,        # theta_1\n",
    "               -0.1,        # theta_2\n",
    "               0.,          # theta_t\n",
    "               0.,          # theta_dot_s\n",
    "               0.,          # theta_dot_1\n",
    "               0.,          # theta_dot_2\n",
    "               -0.2])       # theta_dot_t\n",
    "\n",
    "\n",
    "# Put parameters and settings in dict\n",
    "parameters = dict(r_s=r_s,\n",
    "                  r_t=r_t,\n",
    "                  rho=rho,\n",
    "                  m=m,\n",
    "                  I=I,\n",
    "                  d=d)\n",
    "\n",
    "settings = dict(t_dur=t_dur,\n",
    "                step_size=step_size,\n",
    "                tol=tol,\n",
    "                max_tau=max_tau)\n",
    "\n",
    "# Define system\n",
    "sys = System(y0, parameters, settings)"
   ]
  },
  {
   "cell_type": "code",
   "execution_count": null,
   "id": "1123b877",
   "metadata": {},
   "outputs": [],
   "source": [
    "# CLIK control goes here...\n",
    "def controls(t, y):\n",
    "    pass\n",
    "\n",
    "\n",
    "def event(t, y, tol):\n",
    "    ee = calc_end_effector_position(y, rho, r_s)\n",
    "    capt = calc_capture_point_position(y, rho, r_t)\n",
    "    dist = np.sqrt((ee[0] - capt[0])**2 + (ee[1] - capt[1])**2)\n",
    "\n",
    "    return dist <= tol"
   ]
  },
  {
   "cell_type": "code",
   "execution_count": null,
   "id": "7df10bc5",
   "metadata": {},
   "outputs": [],
   "source": [
    "sys.set_controller(controls)\n",
    "sys.set_event(event)"
   ]
  },
  {
   "cell_type": "code",
   "execution_count": null,
   "id": "a3f85a70",
   "metadata": {},
   "outputs": [],
   "source": [
    "sol = sys.run()"
   ]
  },
  {
   "cell_type": "code",
   "execution_count": null,
   "id": "a638c925",
   "metadata": {},
   "outputs": [],
   "source": [
    "plot_states(sol.t, sol.y, save=False, show=True)"
   ]
  },
  {
   "cell_type": "code",
   "execution_count": null,
   "id": "24b76504",
   "metadata": {},
   "outputs": [],
   "source": [
    "plot_controls(sol.t, sol.u, save=False, show=True)"
   ]
  },
  {
   "cell_type": "code",
   "execution_count": null,
   "id": "dd489426",
   "metadata": {},
   "outputs": [],
   "source": [
    "animate(sol.y, parameters, os.getcwd(), blit=True, frames=[i for i in range(len(sol.t)) if i%10 == 0])"
   ]
  }
 ],
 "metadata": {
  "kernelspec": {
   "display_name": "remi_env",
   "language": "python",
   "name": "python3"
  },
  "language_info": {
   "codemirror_mode": {
    "name": "ipython",
    "version": 3
   },
   "file_extension": ".py",
   "mimetype": "text/x-python",
   "name": "python",
   "nbconvert_exporter": "python",
   "pygments_lexer": "ipython3",
   "version": "3.10.16"
  }
 },
 "nbformat": 4,
 "nbformat_minor": 5
}
