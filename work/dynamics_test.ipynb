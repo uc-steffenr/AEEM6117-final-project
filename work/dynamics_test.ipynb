{
 "cells": [
  {
   "cell_type": "code",
   "execution_count": null,
   "metadata": {},
   "outputs": [],
   "source": [
    "import numpy as np\n",
    "\n",
    "from sympy import (Matrix,\n",
    "                   MatrixSymbol,\n",
    "                   sin,\n",
    "                   cos,\n",
    "                   sqrt,\n",
    "                   symbols,\n",
    "                   diff,\n",
    "                   simplify,\n",
    "                   Eq,\n",
    "                   linear_eq_to_matrix)\n",
    "from sympy.physics.mechanics import dynamicsymbols"
   ]
  },
  {
   "cell_type": "markdown",
   "metadata": {},
   "source": [
    "# Dynamic System Derivation"
   ]
  },
  {
   "cell_type": "code",
   "execution_count": 2,
   "metadata": {},
   "outputs": [],
   "source": [
    "C = lambda th: Matrix([[cos(th), -sin(th)], [sin(th), cos(th)]])\n",
    "D = lambda th: Matrix([[sin(th), cos(th)], [-cos(th), sin(th)]])"
   ]
  },
  {
   "cell_type": "code",
   "execution_count": null,
   "metadata": {},
   "outputs": [],
   "source": [
    "t = symbols('t')\n",
    "\n",
    "# Define states and their time derivatives\n",
    "th_s, th_1, th_2, th_t = dynamicsymbols('theta_s theta_1 theta_2 theta_T')\n",
    "dth_s, dth_1, dth_2, dth_t = dynamicsymbols('theta_s theta_1 theta_2, theta_T', 1)\n",
    "ddth_s, ddth_1, ddth_2, ddth_t = dynamicsymbols('theta_s theta_1 theta_2, theta_T', 2)\n",
    "\n",
    "# Generalized coordinates\n",
    "q = Matrix([th_s, th_1, th_2, th_t])\n",
    "qdot = Matrix([dth_s, dth_1, dth_2, dth_t])\n",
    "qddot = Matrix([ddth_s, ddth_1, ddth_2, ddth_t])\n",
    "\n",
    "# State vector\n",
    "y = q.row_insert(4, qdot)\n",
    "ydot = qdot.row_insert(4, qddot)\n",
    "\n",
    "# Controls\n",
    "tau_s = symbols('tau_s')\n",
    "tau_1 = symbols('tau_1')\n",
    "tau_2 = symbols('tau_2')\n",
    "tau_t = symbols('tau_t')\n",
    "tau = Matrix([tau_s, tau_1, tau_2, tau_t])\n",
    "\n",
    "# System parameters\n",
    "rho = symbols('rho_s rho_1 rho_2 rho_t')    # dimensional array\n",
    "m = symbols('m_s m_1 m_2 m_t')              # mass array\n",
    "I = symbols('I_s I_1 I_2 I_t')              # inertia array\n",
    "d = symbols('d_s d_1 d_2 d_t')              # disturbance vector\n",
    "\n",
    "# Satellite central position\n",
    "r_s0, r_s1 = symbols('r_s0 r_s1')\n",
    "r_s = Matrix([r_s0, r_s1])\n",
    "\n",
    "# Target central position\n",
    "r_t0, r_t1 = symbols('r_s0 r_s1')\n",
    "r_t = Matrix([r_t0, r_t1])\n",
    "\n",
    "# Mid-link positions\n",
    "r_1 = r_s + C(y[0])@(Matrix([rho[0], 0.]) + C(y[1])@Matrix([rho[1], 0.]))\n",
    "r_2 = r_1 + C(y[0])@C(y[1])@(Matrix([rho[1], 0.]) + C(y[2])@Matrix([rho[2], 0.]))\n",
    "\n",
    "# Link velocities\n",
    "v_1 = Matrix(diff(r_1, t))\n",
    "v_2 = Matrix(diff(r_2, t))\n",
    "\n",
    "# Define Lagrangian\n",
    "T = 0.5*m[1]*v_1.dot(v_1) + 0.5*m[2]*v_2.dot(v_2) + \\\n",
    "    0.5*I[0]*y[4]**2 + 0.5*I[1]*y[5]**2 + \\\n",
    "    0.5*I[2]*y[6]**2\n",
    "V = 0.\n",
    "\n",
    "L = simplify(T - V)"
   ]
  },
  {
   "cell_type": "code",
   "execution_count": 5,
   "metadata": {},
   "outputs": [],
   "source": [
    "dL_dth_s = diff(L, y[0])\n",
    "dL_dth_1 = diff(L, y[1])\n",
    "dL_dth_2 = diff(L, y[2])\n",
    "\n",
    "dL_ddth_s = diff(L, y[4])\n",
    "dL_ddth_1 = diff(L, y[5])\n",
    "dL_ddth_2 = diff(L, y[6])\n",
    "\n",
    "dL_ddth_s_dt = diff(dL_ddth_s, t)\n",
    "dL_ddth_1_dt = diff(dL_ddth_1, t)\n",
    "dL_ddth_2_dt = diff(dL_ddth_2, t)\n",
    "\n",
    "th_s_eqn = Eq(simplify(dL_ddth_s_dt - dL_dth_s), tau[0] - d[0])\n",
    "th_1_eqn = Eq(simplify(dL_ddth_1_dt - dL_dth_1), tau[1] - d[1])\n",
    "th_2_eqn = Eq(simplify(dL_ddth_2_dt - dL_dth_2), tau[2] - d[2])\n",
    "th_t_eqn = Eq(I[3]*qddot[3], tau[3] - d[3])"
   ]
  },
  {
   "cell_type": "code",
   "execution_count": 7,
   "metadata": {},
   "outputs": [],
   "source": [
    "eqs = [th_s_eqn.lhs - th_s_eqn.rhs,\n",
    "       th_1_eqn.lhs - th_1_eqn.rhs,\n",
    "       th_2_eqn.lhs - th_2_eqn.rhs]\n",
    "\n",
    "A, B = linear_eq_to_matrix(eqs, qddot[0], qddot[1], qddot[2], qddot[3])"
   ]
  },
  {
   "cell_type": "markdown",
   "metadata": {},
   "source": [
    "# Other Important Parameters\n",
    "- [x] end effector position\n",
    "- [x] end effector velocity\n",
    "- [x] Jacobian of end effector\n",
    "- [x] Jacobian of end eddfector's time derivative\n",
    "- [x] critical point positions\n",
    "- [x] critical point velocities\n",
    "- [x] capture point position\n",
    "- [x] capture point velocity\n",
    "- [x] capture point acceleration\n",
    "- [x] obstacle point positions\n",
    "- [x] obstacle point velocities\n",
    "- [x] $\\gamma_1$\n",
    "- [ ] $\\gamma_2$\n",
    "- [ ] $\\gamma$\n",
    "- [ ] $\\mathbf{\\lambda}$\n",
    "- [ ] $\\mathbf{\\dot{\\lambda}}$"
   ]
  },
  {
   "cell_type": "code",
   "execution_count": 10,
   "metadata": {},
   "outputs": [],
   "source": [
    "# End effector position\n",
    "r_ee = r_1 + C(y[0])@C(y[1])@(Matrix([rho[1], 0.]) + C(y[2])@Matrix([2.*rho[2], 0.]))\n",
    "\n",
    "# End effector velocity\n",
    "v_ee = diff(r_ee, t)\n",
    "\n",
    "# End effector jacobian\n",
    "J = r_ee.jacobian(q[:-1])\n",
    "\n",
    "# End effector\n",
    "J_dot = simplify(diff(J, t))"
   ]
  },
  {
   "cell_type": "code",
   "execution_count": 15,
   "metadata": {},
   "outputs": [],
   "source": [
    "# Critical point positions\n",
    "cp_1 = r_s + C(y[0])@(Matrix([rho[0], 0.]) + C(y[1])@Matrix([2.*rho[1], 0.]))\n",
    "cp_2 = r_2\n",
    "cp_3 = r_ee\n",
    "\n",
    "# Critical point velocities\n",
    "v_cp_1 = diff(cp_1, t)\n",
    "v_cp_2 = v_2\n",
    "v_cp_3 = v_ee"
   ]
  },
  {
   "cell_type": "code",
   "execution_count": 13,
   "metadata": {},
   "outputs": [],
   "source": [
    "# Capture point position\n",
    "r_c = r_t + C(y[3])@Matrix([0., rho[3]])\n",
    "\n",
    "# Capture point velocity\n",
    "v_c = Matrix(diff(r_c, t))\n",
    "\n",
    "# Capture point acceleration\n",
    "a_c = diff(v_c, t)"
   ]
  },
  {
   "cell_type": "code",
   "execution_count": 16,
   "metadata": {},
   "outputs": [],
   "source": [
    "# Obstacle point positions\n",
    "op_1 = r_t + C(y[3])@Matrix([-rho[3], 0.])\n",
    "op_2 = r_t + C(y[3])@Matrix([-rho[3], rho[3]])\n",
    "op_3 = r_t + C(y[3])@Matrix([rho[3], rho[3]])\n",
    "op_4 = r_t + C(y[3])@Matrix([rho[3], 0.])\n",
    "op_5 = r_t + C(y[3])@Matrix([rho[3], -rho[3]])\n",
    "op_6 = r_t + C(y[3])@Matrix([0., -rho[3]])\n",
    "op_7 = r_t + C(y[3])@Matrix([-rho[3], -rho[3]])\n",
    "\n",
    "# Obstacle point velocities\n",
    "v_op_1 = diff(op_1, t)\n",
    "v_op_2 = diff(op_2, t)\n",
    "v_op_3 = diff(op_3, t)\n",
    "v_op_4 = diff(op_4, t)\n",
    "v_op_5 = diff(op_5, t)\n",
    "v_op_6 = diff(op_6, t)\n",
    "v_op_7 = diff(op_7, t)"
   ]
  },
  {
   "cell_type": "code",
   "execution_count": 17,
   "metadata": {},
   "outputs": [],
   "source": [
    "# Gamma 1\n",
    "p = symbols('p_1 p_2 p_3')\n",
    "q_bar = symbols('q_bar_1 q_bar_2 q_bar_3')\n",
    "q_max = symbols('q_max_1 q_max_2 q_max_3')\n",
    "q_min = symbols('q_min_1 q_min_2 q_min_3')\n",
    "\n",
    "gam_1 = (1./3.)*(p[0]*((q[0] - q_bar[0])/(q_max[0] - q_min[0]))**2 + \\\n",
    "                 p[1]*((q[1] - q_bar[1])/(q_max[1] - q_min[1]))**2 + \\\n",
    "                 p[2]*((q[2] - q_bar[2])/(q_max[2] - q_min[2]))**2)"
   ]
  },
  {
   "cell_type": "code",
   "execution_count": null,
   "metadata": {},
   "outputs": [],
   "source": [
    "# Gamma 2\n",
    "xt = MatrixSymbol('xt', 3, 2)\n",
    "yt = MatrixSymbol('yt', 3, 2)\n",
    "w = MatrixSymbol('w', 3, 2)\n",
    "\n",
    "d_0k = sqrt()"
   ]
  },
  {
   "cell_type": "markdown",
   "metadata": {},
   "source": [
    "# Create Functions"
   ]
  },
  {
   "cell_type": "code",
   "execution_count": null,
   "metadata": {},
   "outputs": [],
   "source": [
    "from sympy import lambdify, matrix2numpy\n",
    "\n",
    "dynamics = lambdify((y, tau, r_s, r_t, rho, m, I , b), matrix2numpy(A.LUsolve(B).T), \"numpy\")\n",
    "pos_func = lambdify((y, r_s, r_t, rho), (matrix2numpy(r_1.T), matrix2numpy(r_2.T),  matrix2numpy(r_c.T)), \"numpy\")\n",
    "vel_func = lambdify((y, r_s, r_t, rho), (matrix2numpy(v_1.T), matrix2numpy(v_2.T),  matrix2numpy(v_c.T)), \"numpy\")\n",
    "ee_func = lambdify((y, r_s, rho), matrix2numpy(r_ee.T), \"numpy\")\n",
    "J_func = lambdify((y, rho), matrix2numpy(J), \"numpy\")"
   ]
  },
  {
   "cell_type": "markdown",
   "metadata": {},
   "source": [
    "# Testing Functions"
   ]
  },
  {
   "cell_type": "code",
   "execution_count": 8,
   "metadata": {},
   "outputs": [
    {
     "name": "stdout",
     "output_type": "stream",
     "text": [
      "[[-0.02223101  0.05148234 -0.04680213  0.        ]]\n",
      "(array([[[3.],\n",
      "        [0.]]]), array([[[4.],\n",
      "        [0.]]]), array([[[2. ],\n",
      "        [0.5]]]))\n",
      "(array([[-0.,  0.]]), array([[0., 0.]]), array([[-0., -0.]]))\n"
     ]
    }
   ],
   "source": [
    "y = np.zeros(8)\n",
    "u = np.zeros(3)\n",
    "u[1] = np.deg2rad(30.)\n",
    "\n",
    "r_s = np.array([[0.], [0.]])\n",
    "r_t = np.array([[2.], [0.]])\n",
    "\n",
    "rho = np.array([0.5, 0.5, 0.5, 0.5])\n",
    "m = np.array([250., 25., 25., 180.])\n",
    "I = np.array([25., 2.5, 2.5, 18.])\n",
    "b = np.zeros(3)\n",
    "\n",
    "print(dynamics(y, u, r_s, r_t, rho, m, I, b))\n",
    "print(pos_func(y, r_s, r_t, rho))\n",
    "print(vel_func(y, r_s, r_t, rho))"
   ]
  },
  {
   "cell_type": "code",
   "execution_count": 10,
   "metadata": {},
   "outputs": [
    {
     "name": "stdout",
     "output_type": "stream",
     "text": [
      "[[[2.5]\n",
      "  [0. ]]]\n"
     ]
    }
   ],
   "source": [
    "print(ee_func(y, r_s, rho))"
   ]
  },
  {
   "cell_type": "code",
   "execution_count": 11,
   "metadata": {},
   "outputs": [
    {
     "name": "stdout",
     "output_type": "stream",
     "text": [
      "[[-0.  -0.  -0. ]\n",
      " [ 2.5  2.   1. ]]\n"
     ]
    }
   ],
   "source": [
    "print(J_func(y, rho))"
   ]
  },
  {
   "cell_type": "markdown",
   "metadata": {},
   "source": [
    "# Save Functions in PKL"
   ]
  },
  {
   "cell_type": "code",
   "execution_count": 12,
   "metadata": {},
   "outputs": [],
   "source": [
    "import dill\n",
    "\n",
    "with open('dynamics.pkl', \"wb\") as f:\n",
    "    dill.dump(dynamics, f)\n",
    "\n",
    "with open('position.pkl', \"wb\") as f:\n",
    "    dill.dump(pos_func, f)\n",
    "\n",
    "with open('velocity.pkl', \"wb\") as f:\n",
    "    dill.dump(vel_func, f)\n",
    "\n",
    "with open('ee.pkl', 'wb') as f:\n",
    "    dill.dump(ee_func, f)\n",
    "\n",
    "with open('Je.pkl', 'wb') as f:\n",
    "    dill.dump(J_func, f)"
   ]
  }
 ],
 "metadata": {
  "kernelspec": {
   "display_name": "remi_env",
   "language": "python",
   "name": "python3"
  },
  "language_info": {
   "codemirror_mode": {
    "name": "ipython",
    "version": 3
   },
   "file_extension": ".py",
   "mimetype": "text/x-python",
   "name": "python",
   "nbconvert_exporter": "python",
   "pygments_lexer": "ipython3",
   "version": "3.10.16"
  }
 },
 "nbformat": 4,
 "nbformat_minor": 2
}
