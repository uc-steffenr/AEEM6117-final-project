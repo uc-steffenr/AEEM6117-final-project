{
 "cells": [
  {
   "cell_type": "code",
   "execution_count": 1,
   "metadata": {},
   "outputs": [],
   "source": [
    "import numpy as np\n",
    "\n",
    "from sympy import (Matrix,\n",
    "                   sin,\n",
    "                   cos,\n",
    "                   symbols,\n",
    "                   diff,\n",
    "                   simplify,\n",
    "                   Eq,\n",
    "                   Function,\n",
    "                   lambdify,\n",
    "                   Symbol,\n",
    "                   Function,\n",
    "                   Derivative,\n",
    "                   matrix2numpy,\n",
    "                   linear_eq_to_matrix)\n",
    "from sympy.physics.mechanics import dynamicsymbols\n",
    "from sympy import default_sort_key "
   ]
  },
  {
   "cell_type": "markdown",
   "metadata": {},
   "source": [
    "# Dynamic System Derivation"
   ]
  },
  {
   "cell_type": "code",
   "execution_count": 2,
   "metadata": {},
   "outputs": [],
   "source": [
    "C = lambda th: Matrix([[cos(th), -sin(th)], [sin(th), cos(th)]])\n",
    "D = lambda th: Matrix([[sin(th), cos(th)], [-cos(th), sin(th)]])"
   ]
  },
  {
   "cell_type": "code",
   "execution_count": 3,
   "metadata": {},
   "outputs": [],
   "source": [
    "t = symbols('t')\n",
    "\n",
    "# Define states and their time derivatives\n",
    "th_s, th_1, th_2, th_t = dynamicsymbols('theta_s theta_1 theta_2 theta_T')\n",
    "dth_s, dth_1, dth_2, dth_t = dynamicsymbols('theta_s theta_1 theta_2, theta_T', 1)\n",
    "ddth_s, ddth_1, ddth_2, ddth_t = dynamicsymbols('theta_s theta_1 theta_2, theta_T', 2)\n",
    "\n",
    "# Generalized coordinates\n",
    "q = Matrix([th_s, th_1, th_2, th_t])\n",
    "qdot = Matrix([dth_s, dth_1, dth_2, dth_t])\n",
    "qddot = Matrix([ddth_s, ddth_1, ddth_2, ddth_t])\n",
    "\n",
    "# State vector\n",
    "y = q.row_insert(4, qdot)\n",
    "ydot = qdot.row_insert(4, qddot)\n",
    "\n",
    "# Controls\n",
    "tau_s = symbols('tau_s')\n",
    "tau_1 = symbols('tau_1')\n",
    "tau_2 = symbols('tau_2')\n",
    "tau_t = symbols('tau_t')\n",
    "tau = Matrix([tau_s, tau_1, tau_2, tau_t])\n",
    "\n",
    "# System parameters\n",
    "rho = symbols('rho_s rho_1 rho_2 rho_t')    # dimensional array\n",
    "m = symbols('m_s m_1 m_2 m_t')              # mass array\n",
    "I = symbols('I_s I_1 I_2 I_t')              # inertia array\n",
    "d = symbols('d_s d_1 d_2 d_t')              # disturbance vector\n",
    "\n",
    "# Satellite central position\n",
    "r_s0, r_s1 = symbols('r_s0 r_s1')\n",
    "r_s = Matrix([r_s0, r_s1])\n",
    "\n",
    "# Target central position\n",
    "r_t0, r_t1 = symbols('r_s0 r_s1')\n",
    "r_t = Matrix([r_t0, r_t1])\n",
    "\n",
    "# Mid-link positions\n",
    "r_1 = r_s + C(y[0])@(Matrix([rho[0], 0.]) + C(y[1])@Matrix([rho[1], 0.]))\n",
    "r_2 = r_1 + C(y[0])@C(y[1])@(Matrix([rho[1], 0.]) + C(y[2])@Matrix([rho[2], 0.]))\n",
    "\n",
    "# Link velocities\n",
    "v_1 = Matrix(diff(r_1, t))\n",
    "v_2 = Matrix(diff(r_2, t))\n",
    "\n",
    "# Define Lagrangian\n",
    "T = 0.5*m[1]*v_1.dot(v_1) + 0.5*m[2]*v_2.dot(v_2) + \\\n",
    "    0.5*I[0]*y[4]**2 + 0.5*I[1]*y[5]**2 + \\\n",
    "    0.5*I[2]*y[6]**2\n",
    "V = 0.\n",
    "\n",
    "L = simplify(T - V)"
   ]
  },
  {
   "cell_type": "code",
   "execution_count": 4,
   "metadata": {},
   "outputs": [],
   "source": [
    "dL_dth_s = diff(L, y[0])\n",
    "dL_dth_1 = diff(L, y[1])\n",
    "dL_dth_2 = diff(L, y[2])\n",
    "\n",
    "dL_ddth_s = diff(L, y[4])\n",
    "dL_ddth_1 = diff(L, y[5])\n",
    "dL_ddth_2 = diff(L, y[6])\n",
    "\n",
    "dL_ddth_s_dt = diff(dL_ddth_s, t)\n",
    "dL_ddth_1_dt = diff(dL_ddth_1, t)\n",
    "dL_ddth_2_dt = diff(dL_ddth_2, t)\n",
    "\n",
    "th_s_eqn = Eq(simplify(dL_ddth_s_dt - dL_dth_s), tau[0] - d[0])\n",
    "th_1_eqn = Eq(simplify(dL_ddth_1_dt - dL_dth_1), tau[1] - d[1])\n",
    "th_2_eqn = Eq(simplify(dL_ddth_2_dt - dL_dth_2), tau[2] - d[2])\n",
    "th_t_eqn = Eq(I[3]*qddot[3], tau[3] - d[3])"
   ]
  },
  {
   "cell_type": "code",
   "execution_count": 5,
   "metadata": {},
   "outputs": [],
   "source": [
    "eqs = [th_s_eqn.lhs - th_s_eqn.rhs,\n",
    "       th_1_eqn.lhs - th_1_eqn.rhs,\n",
    "       th_2_eqn.lhs - th_2_eqn.rhs,\n",
    "       th_t_eqn.lhs - th_t_eqn.rhs]\n",
    "\n",
    "A, B = linear_eq_to_matrix(eqs, qddot[0], qddot[1], qddot[2], qddot[3])\n",
    "dynamics_func = lambdify((y, tau, r_s, r_t, rho, m, I, d), A.LUsolve(B), 'numpy')"
   ]
  },
  {
   "cell_type": "markdown",
   "metadata": {},
   "source": [
    "TODO: Find a good way to keep this in matrix form but still solve for tau."
   ]
  },
  {
   "cell_type": "code",
   "execution_count": 6,
   "metadata": {},
   "outputs": [],
   "source": [
    "th_s_eqn = Eq(tau[0], simplify(dL_ddth_s_dt - dL_dth_s) + d[0])\n",
    "th_1_eqn = Eq(tau[1], simplify(dL_ddth_1_dt - dL_dth_1) + d[1])\n",
    "th_2_eqn = Eq(tau[2], simplify(dL_ddth_2_dt - dL_dth_2) + d[2])\n",
    "th_t_eqn = Eq(tau[3], I[3]*qddot[3] + d[3])\n",
    "\n",
    "vec = Matrix([th_s_eqn.rhs,\n",
    "              th_1_eqn.rhs,\n",
    "              th_2_eqn.rhs,\n",
    "              th_t_eqn.rhs])\n",
    "\n",
    "subs = {qddot[0] : symbols('ddth_s', real=True),\n",
    "        qddot[1] : symbols('ddth_1', real=True),\n",
    "        qddot[2] : symbols('ddth_2', real=True),\n",
    "        qddot[3] : symbols('ddth_t', real=True)}\n",
    "\n",
    "vec = vec.subs(subs)\n",
    "\n",
    "inverse_dynamics_func = lambdify((y, list(subs.values()), r_s, r_t, rho, m, I, d), vec, 'numpy')"
   ]
  },
  {
   "cell_type": "markdown",
   "metadata": {},
   "source": [
    "# Other Important Parameters\n",
    "- [x] end effector position\n",
    "- [x] end effector velocity\n",
    "- [x] Jacobian of end effector\n",
    "- [x] Jacobian of end eddfector's time derivative\n",
    "- [x] critical point positions\n",
    "- [x] critical point velocities\n",
    "- [x] capture point position\n",
    "- [x] capture point velocity\n",
    "- [x] capture point acceleration\n",
    "- [x] obstacle point positions\n",
    "- [x] obstacle point velocities\n",
    "- [x] $\\gamma_1$\n",
    "- [x] $\\gamma_2$\n",
    "- [x] $\\gamma$\n",
    "- [x] $\\mathbf{\\lambda}$\n",
    "- [x] $\\mathbf{\\dot{\\lambda}}$"
   ]
  },
  {
   "cell_type": "code",
   "execution_count": 7,
   "metadata": {},
   "outputs": [],
   "source": [
    "# End effector position\n",
    "r_ee = r_1 + C(y[0])@C(y[1])@(Matrix([rho[1], 0.]) + C(y[2])@Matrix([2.*rho[2], 0.]))\n",
    "\n",
    "# End effector velocity\n",
    "v_ee = diff(r_ee, t)\n",
    "\n",
    "# End effector jacobian\n",
    "J = r_ee.jacobian(q[:-1])\n",
    "\n",
    "# End effector\n",
    "J_dot = simplify(diff(J, t))"
   ]
  },
  {
   "cell_type": "code",
   "execution_count": 8,
   "metadata": {},
   "outputs": [],
   "source": [
    "r_ee_func = lambdify((y, rho, r_s), matrix2numpy(r_ee), 'numpy')\n",
    "v_ee_func = lambdify((y, rho, r_s), v_ee, 'numpy')\n",
    "J_func = lambdify((y, rho, r_s), J, 'numpy')\n",
    "J_dot_func = lambdify((y, rho, r_s), J_dot, 'numpy')"
   ]
  },
  {
   "cell_type": "code",
   "execution_count": 9,
   "metadata": {},
   "outputs": [],
   "source": [
    "# Critical point positions\n",
    "cp_1 = r_s + C(y[0])@(Matrix([rho[0], 0.]) + C(y[1])@Matrix([2.*rho[1], 0.]))\n",
    "cp_2 = r_2\n",
    "cp_3 = r_ee\n",
    "\n",
    "# Critical point velocities\n",
    "v_cp_1 = diff(cp_1, t)\n",
    "v_cp_2 = v_2\n",
    "v_cp_3 = v_ee"
   ]
  },
  {
   "cell_type": "code",
   "execution_count": 10,
   "metadata": {},
   "outputs": [],
   "source": [
    "cp_func = lambdify((y, rho, r_s), (cp_1, cp_2, cp_3), 'numpy')\n",
    "v_cp_func = lambdify((y, rho, r_s), (v_cp_1, v_cp_2, v_cp_3), 'numpy')"
   ]
  },
  {
   "cell_type": "code",
   "execution_count": 11,
   "metadata": {},
   "outputs": [],
   "source": [
    "# Capture point position\n",
    "r_c = r_t + C(y[3])@Matrix([0., rho[3]])\n",
    "\n",
    "# Capture point velocity\n",
    "v_c = Matrix(diff(r_c, t))\n",
    "\n",
    "# Capture point acceleration\n",
    "a_c = diff(v_c, t)\n",
    "\n",
    "sub_dict = {ddth_t: symbols('theta_ddot_t', real=True)}\n",
    "a_c = a_c.subs(sub_dict)"
   ]
  },
  {
   "cell_type": "code",
   "execution_count": 12,
   "metadata": {},
   "outputs": [],
   "source": [
    "r_c_func = lambdify((y, rho, r_t), r_c, 'numpy')\n",
    "v_c_func = lambdify((y, rho, r_t), v_c, 'numpy')\n",
    "a_c_func = lambdify((y, sub_dict[ddth_t], rho, r_t), a_c, 'numpy')"
   ]
  },
  {
   "cell_type": "code",
   "execution_count": 13,
   "metadata": {},
   "outputs": [],
   "source": [
    "# Obstacle point positions\n",
    "op_1 = r_t + C(y[3])@Matrix([-rho[3], 0.])\n",
    "op_2 = r_t + C(y[3])@Matrix([-rho[3], rho[3]])\n",
    "op_3 = r_t + C(y[3])@Matrix([rho[3], rho[3]])\n",
    "op_4 = r_t + C(y[3])@Matrix([rho[3], 0.])\n",
    "op_5 = r_t + C(y[3])@Matrix([rho[3], -rho[3]])\n",
    "op_6 = r_t + C(y[3])@Matrix([0., -rho[3]])\n",
    "op_7 = r_t + C(y[3])@Matrix([-rho[3], -rho[3]])\n",
    "\n",
    "# Obstacle point velocities\n",
    "v_op_1 = diff(op_1, t)\n",
    "v_op_2 = diff(op_2, t)\n",
    "v_op_3 = diff(op_3, t)\n",
    "v_op_4 = diff(op_4, t)\n",
    "v_op_5 = diff(op_5, t)\n",
    "v_op_6 = diff(op_6, t)\n",
    "v_op_7 = diff(op_7, t)"
   ]
  },
  {
   "cell_type": "code",
   "execution_count": 14,
   "metadata": {},
   "outputs": [],
   "source": [
    "ops_func = lambdify((y, rho, r_t), (op_1, op_2, op_3, op_4, op_5, op_6, op_7), 'numpy')\n",
    "v_ops_func = lambdify((y, rho, r_t), (v_op_1, v_op_2, v_op_3, v_op_4, v_op_5, v_op_6, v_op_7), 'numpy')"
   ]
  },
  {
   "cell_type": "code",
   "execution_count": 15,
   "metadata": {},
   "outputs": [],
   "source": [
    "# Gamma 1\n",
    "p = symbols('p_1 p_2 p_3')\n",
    "q_bar = symbols('q_bar_1 q_bar_2 q_bar_3')\n",
    "q_max = symbols('q_max_1 q_max_2 q_max_3')\n",
    "q_min = symbols('q_min_1 q_min_2 q_min_3')\n",
    "\n",
    "gam_1 = (1./3.)*(p[0]*((q[0] - q_bar[0])/(q_max[0] - q_min[0]))**2 + \\\n",
    "                 p[1]*((q[1] - q_bar[1])/(q_max[1] - q_min[1]))**2 + \\\n",
    "                 p[2]*((q[2] - q_bar[2])/(q_max[2] - q_min[2]))**2)"
   ]
  },
  {
   "cell_type": "code",
   "execution_count": 16,
   "metadata": {},
   "outputs": [],
   "source": [
    "gam_1_func = lambdify((y, p, q_bar, q_max, q_min), gam_1, 'numpy')"
   ]
  },
  {
   "cell_type": "code",
   "execution_count": 17,
   "metadata": {},
   "outputs": [],
   "source": [
    "# Gamma 2\n",
    "cp_x = [cp_1[0], cp_2[0], cp_3[0]]\n",
    "cp_y = [cp_1[1], cp_2[1], cp_3[1]]\n",
    "\n",
    "op_x = [[Function(f\"xT_{j+1}_{k+1}\")(t) for k in range(2)] for j in range(3)]\n",
    "op_y = [[Function(f\"yT_{j+1}_{k+1}\")(t) for k in range(2)] for j in range(3)]\n",
    "\n",
    "w11, w12, w21, w22, w31, w32 = symbols('w11 w12 w21 w22 w31 w32', real=True)\n",
    "weights = {(0, 0): w11, (0, 1): w12,\n",
    "           (1, 0): w21, (1, 1): w22,\n",
    "           (2, 0): w31, (2, 1): w32}\n",
    "\n",
    "gam_2 = 0\n",
    "for j in range(3):\n",
    "    for k in range(2):\n",
    "        d_jk_sq = (cp_x[j] - op_x[j][k])**2 + (cp_y[j] - op_y[j][k])**2\n",
    "        gam_2 += weights[(j, k)] / d_jk_sq"
   ]
  },
  {
   "cell_type": "code",
   "execution_count": 18,
   "metadata": {},
   "outputs": [],
   "source": [
    "w = Matrix([w11, w12, w21, w22, w31, w32])\n",
    "gam_2_func = lambdify((y, rho, r_s, w, op_x, op_y), gam_2, 'numpy')"
   ]
  },
  {
   "cell_type": "code",
   "execution_count": 19,
   "metadata": {},
   "outputs": [],
   "source": [
    "gam = Matrix([gam_1 + gam_2])"
   ]
  },
  {
   "cell_type": "code",
   "execution_count": 20,
   "metadata": {},
   "outputs": [],
   "source": [
    "gam_func = lambdify((y, rho, r_s, p, q_bar, q_max, q_min, w, op_x, op_y), gam, 'numpy')"
   ]
  },
  {
   "cell_type": "code",
   "execution_count": 21,
   "metadata": {},
   "outputs": [],
   "source": [
    "lam = gam.jacobian(q[:-1])"
   ]
  },
  {
   "cell_type": "code",
   "execution_count": 22,
   "metadata": {},
   "outputs": [],
   "source": [
    "lam_func = lambdify((y, rho, r_s, p, q_bar, q_max, q_min, w, op_x, op_y), lam, 'numpy')"
   ]
  },
  {
   "cell_type": "code",
   "execution_count": 23,
   "metadata": {},
   "outputs": [],
   "source": [
    "lam_dot = diff(lam, t)"
   ]
  },
  {
   "cell_type": "code",
   "execution_count": 24,
   "metadata": {},
   "outputs": [],
   "source": [
    "subs_dict = {}\n",
    "velocity_symbols = {}  # To store the order of our velocity symbols if needed.\n",
    "for j in range(3):\n",
    "    for k in range(2):\n",
    "        vx_sym = symbols(f\"vxT_{j+1}_{k+1}\", real=True)\n",
    "        vy_sym = symbols(f\"vyT_{j+1}_{k+1}\", real=True)\n",
    "        velocity_symbols[(j, k, 'x')] = vx_sym\n",
    "        velocity_symbols[(j, k, 'y')] = vy_sym\n",
    "        subs_dict[diff(op_x[j][k], t)] = vx_sym\n",
    "        subs_dict[diff(op_y[j][k], t)] = vy_sym\n",
    "\n",
    "lam_dot = lam_dot.subs(subs_dict)"
   ]
  },
  {
   "cell_type": "code",
   "execution_count": 25,
   "metadata": {},
   "outputs": [],
   "source": [
    "vxT = Matrix(list(subs_dict.values())[::2])\n",
    "vyT = Matrix(list(subs_dict.values())[1::2])"
   ]
  },
  {
   "cell_type": "code",
   "execution_count": 26,
   "metadata": {},
   "outputs": [],
   "source": [
    "lam_dot_func = lambdify((y, rho, r_s, p, q_bar, q_max, q_min, w, op_x, op_y, vxT, vyT), lam_dot, 'numpy')"
   ]
  },
  {
   "cell_type": "markdown",
   "metadata": {},
   "source": [
    "# Testing Functions"
   ]
  },
  {
   "cell_type": "code",
   "execution_count": 27,
   "metadata": {},
   "outputs": [],
   "source": [
    "y = np.zeros(8)\n",
    "u = np.zeros(4)\n",
    "u[1] = np.deg2rad(30.)\n",
    "\n",
    "r_s = np.array([-1.5, 0.])\n",
    "r_t = np.array([1.5, 0.])\n",
    "\n",
    "rho = np.array([0.5, 0.5, 0.5, 0.5])\n",
    "m = np.array([250., 25., 25., 180.])\n",
    "I = np.array([25., 2.5, 2.5, 18.])\n",
    "d = np.zeros(4)\n",
    "\n",
    "p = np.ones(3)\n",
    "w = np.ones(6)\n",
    "q_bar = np.zeros(3)\n",
    "q_max = np.ones(3)*np.pi\n",
    "q_min = np.ones(3)*-np.pi"
   ]
  },
  {
   "cell_type": "code",
   "execution_count": 28,
   "metadata": {},
   "outputs": [
    {
     "data": {
      "text/plain": [
       "array([[-0.02223101],\n",
       "       [ 0.05148234],\n",
       "       [-0.04680213],\n",
       "       [ 0.        ]])"
      ]
     },
     "execution_count": 28,
     "metadata": {},
     "output_type": "execute_result"
    }
   ],
   "source": [
    "dynamics_func(y, u, r_s, r_t, rho, m, I, d)"
   ]
  },
  {
   "cell_type": "code",
   "execution_count": 29,
   "metadata": {},
   "outputs": [
    {
     "data": {
      "text/plain": [
       "array([[1.],\n",
       "       [0.]])"
      ]
     },
     "execution_count": 29,
     "metadata": {},
     "output_type": "execute_result"
    }
   ],
   "source": [
    "r_ee_func(y, rho, r_s)"
   ]
  },
  {
   "cell_type": "code",
   "execution_count": 30,
   "metadata": {},
   "outputs": [
    {
     "data": {
      "text/plain": [
       "array([[0.],\n",
       "       [0.]])"
      ]
     },
     "execution_count": 30,
     "metadata": {},
     "output_type": "execute_result"
    }
   ],
   "source": [
    "v_ee_func(y, rho, r_s)"
   ]
  },
  {
   "cell_type": "code",
   "execution_count": 31,
   "metadata": {},
   "outputs": [
    {
     "data": {
      "text/plain": [
       "array([[-0. , -0. , -0. ],\n",
       "       [ 2.5,  2. ,  1. ]])"
      ]
     },
     "execution_count": 31,
     "metadata": {},
     "output_type": "execute_result"
    }
   ],
   "source": [
    "J_func(y, rho, r_s)"
   ]
  },
  {
   "cell_type": "code",
   "execution_count": 32,
   "metadata": {},
   "outputs": [
    {
     "data": {
      "text/plain": [
       "array([[-0., -0., -0.],\n",
       "       [-0., -0., -0.]])"
      ]
     },
     "execution_count": 32,
     "metadata": {},
     "output_type": "execute_result"
    }
   ],
   "source": [
    "J_dot_func(y, rho, r_s)"
   ]
  },
  {
   "cell_type": "code",
   "execution_count": 33,
   "metadata": {},
   "outputs": [
    {
     "data": {
      "text/plain": [
       "(array([[0.],\n",
       "        [0.]]),\n",
       " array([[0.5],\n",
       "        [0. ]]),\n",
       " array([[1.],\n",
       "        [0.]]))"
      ]
     },
     "execution_count": 33,
     "metadata": {},
     "output_type": "execute_result"
    }
   ],
   "source": [
    "cp_func(y, rho, r_s)"
   ]
  },
  {
   "cell_type": "code",
   "execution_count": 34,
   "metadata": {},
   "outputs": [
    {
     "data": {
      "text/plain": [
       "(array([[-0.],\n",
       "        [ 0.]]),\n",
       " array([[0.],\n",
       "        [0.]]),\n",
       " array([[0.],\n",
       "        [0.]]))"
      ]
     },
     "execution_count": 34,
     "metadata": {},
     "output_type": "execute_result"
    }
   ],
   "source": [
    "v_cp_func(y, rho, r_s)"
   ]
  },
  {
   "cell_type": "code",
   "execution_count": 35,
   "metadata": {},
   "outputs": [
    {
     "data": {
      "text/plain": [
       "array([[1.5],\n",
       "       [0.5]])"
      ]
     },
     "execution_count": 35,
     "metadata": {},
     "output_type": "execute_result"
    }
   ],
   "source": [
    "r_c_func(y, rho, r_t)"
   ]
  },
  {
   "cell_type": "code",
   "execution_count": 36,
   "metadata": {},
   "outputs": [
    {
     "data": {
      "text/plain": [
       "array([[-0.],\n",
       "       [-0.]])"
      ]
     },
     "execution_count": 36,
     "metadata": {},
     "output_type": "execute_result"
    }
   ],
   "source": [
    "v_c_func(y, rho, r_t)"
   ]
  },
  {
   "cell_type": "code",
   "execution_count": 37,
   "metadata": {},
   "outputs": [
    {
     "data": {
      "text/plain": [
       "array([[ 0.],\n",
       "       [-0.]])"
      ]
     },
     "execution_count": 37,
     "metadata": {},
     "output_type": "execute_result"
    }
   ],
   "source": [
    "a_c_func(y, 0., rho, r_t)"
   ]
  },
  {
   "cell_type": "code",
   "execution_count": 38,
   "metadata": {},
   "outputs": [
    {
     "data": {
      "text/plain": [
       "(array([[1.],\n",
       "        [0.]]),\n",
       " array([[1. ],\n",
       "        [0.5]]),\n",
       " array([[2. ],\n",
       "        [0.5]]),\n",
       " array([[2.],\n",
       "        [0.]]),\n",
       " array([[ 2. ],\n",
       "        [-0.5]]),\n",
       " array([[ 1.5],\n",
       "        [-0.5]]),\n",
       " array([[ 1. ],\n",
       "        [-0.5]]))"
      ]
     },
     "execution_count": 38,
     "metadata": {},
     "output_type": "execute_result"
    }
   ],
   "source": [
    "ops_func(y, rho, r_t)"
   ]
  },
  {
   "cell_type": "code",
   "execution_count": 39,
   "metadata": {},
   "outputs": [
    {
     "data": {
      "text/plain": [
       "(array([[ 0.],\n",
       "        [-0.]]),\n",
       " array([[ 0.],\n",
       "        [-0.]]),\n",
       " array([[-0.],\n",
       "        [ 0.]]),\n",
       " array([[-0.],\n",
       "        [ 0.]]),\n",
       " array([[0.],\n",
       "        [0.]]),\n",
       " array([[0.],\n",
       "        [0.]]),\n",
       " array([[0.],\n",
       "        [0.]]))"
      ]
     },
     "execution_count": 39,
     "metadata": {},
     "output_type": "execute_result"
    }
   ],
   "source": [
    "v_ops_func(y, rho, r_t)"
   ]
  },
  {
   "cell_type": "code",
   "execution_count": 40,
   "metadata": {},
   "outputs": [
    {
     "data": {
      "text/plain": [
       "np.float64(0.0)"
      ]
     },
     "execution_count": 40,
     "metadata": {},
     "output_type": "execute_result"
    }
   ],
   "source": [
    "gam_1_func(y, p, q_bar, q_max, q_min)"
   ]
  },
  {
   "cell_type": "code",
   "execution_count": 41,
   "metadata": {},
   "outputs": [
    {
     "name": "stdout",
     "output_type": "stream",
     "text": [
      "9.100000000000001\n"
     ]
    }
   ],
   "source": [
    "# add method for finding closest 2 points to each CP\n",
    "ops = list(ops_func(y, rho, r_t))\n",
    "cpt = r_c_func(y, rho, r_t)\n",
    "ops += [cpt]\n",
    "ops = [op.flatten() for op in ops]\n",
    "\n",
    "cps = list(cp_func(y, rho, r_s))\n",
    "cps = [cp.flatten() for cp in cps]\n",
    "\n",
    "inds = np.zeros((3, 2), dtype=int)\n",
    "\n",
    "pos = np.zeros((3, 2, 2))\n",
    "for i, cp in enumerate(cps):\n",
    "    dists = [np.sqrt((cp[0] - op[0])**2 + \\\n",
    "                            (cp[1] - op[1])**2) for op in ops]\n",
    "    sorted_dists = sorted(dists, key=float)\n",
    "\n",
    "    ind1 = dists.index(sorted_dists[0])\n",
    "    ind2 = dists.index(sorted_dists[1])\n",
    "    \n",
    "    if i == 2 and ind1 == len(ops)-1:\n",
    "        ind1 = dists.index(sorted_dists[2])\n",
    "\n",
    "    if i == 2 and ind2 == len(ops)-1:\n",
    "        ind2 = dists.index(sorted_dists[2])\n",
    "\n",
    "    pos[i, 0, :] = ops[ind1]\n",
    "    pos[i, 1, :] = ops[ind2]\n",
    "    inds[i, 0] = ind1\n",
    "    inds[i, 1] = ind2\n",
    "\n",
    "print(gam_2_func(y, rho, r_s, w, pos[:, 0, :], pos[:, 1, :]))"
   ]
  },
  {
   "cell_type": "code",
   "execution_count": 42,
   "metadata": {},
   "outputs": [
    {
     "data": {
      "text/plain": [
       "array([[9.1]])"
      ]
     },
     "execution_count": 42,
     "metadata": {},
     "output_type": "execute_result"
    }
   ],
   "source": [
    "gam_func(y, rho, r_s, p, q_bar, q_max, q_min, w, pos[:, 0, :], pos[:, 1, :])"
   ]
  },
  {
   "cell_type": "code",
   "execution_count": 43,
   "metadata": {},
   "outputs": [
    {
     "data": {
      "text/plain": [
       "array([[41.91, 29.7 ,  5.28]])"
      ]
     },
     "execution_count": 43,
     "metadata": {},
     "output_type": "execute_result"
    }
   ],
   "source": [
    "lam_func(y, rho, r_s, p, q_bar, q_max, q_min, w, pos[:, 0, :], pos[:, 1, :])"
   ]
  },
  {
   "cell_type": "code",
   "execution_count": 44,
   "metadata": {},
   "outputs": [
    {
     "data": {
      "text/plain": [
       "array([[0., 0., 0.]])"
      ]
     },
     "execution_count": 44,
     "metadata": {},
     "output_type": "execute_result"
    }
   ],
   "source": [
    "v_ops = list(v_ops_func(y, rho, r_t))\n",
    "v_cpt = v_c_func(y, rho, r_t)\n",
    "v_ops += [v_cpt]\n",
    "v_ops = [v.flatten() for v in v_ops]\n",
    "\n",
    "vs = np.array([[[v_ops[ind1][0], v_ops[ind1][1]], [v_ops[ind2][0], v_ops[ind2][1]]] for ind1, ind2 in inds])\n",
    "\n",
    "lam_dot_func(y, rho, r_s, p, q_bar, q_max, q_min, w, pos[:, 0, :], pos[:, 1, :], vs[:, :, 0].flatten(), vs[:, :, 0].flatten())"
   ]
  },
  {
   "cell_type": "code",
   "execution_count": 45,
   "metadata": {},
   "outputs": [
    {
     "data": {
      "text/plain": [
       "array([[262.5 ],\n",
       "       [171.25],\n",
       "       [ 52.5 ],\n",
       "       [ 18.  ]])"
      ]
     },
     "execution_count": 45,
     "metadata": {},
     "output_type": "execute_result"
    }
   ],
   "source": [
    "inverse_dynamics_func(y, np.ones(4), r_s, r_t, rho, m, I, d)"
   ]
  },
  {
   "cell_type": "markdown",
   "metadata": {},
   "source": [
    "# Save Functions in PKL"
   ]
  },
  {
   "cell_type": "code",
   "execution_count": 46,
   "metadata": {},
   "outputs": [],
   "source": [
    "import dill\n",
    "\n",
    "with open('functions/r_ee.pkl', 'wb') as f:\n",
    "    dill.dump(r_ee_func, f)\n",
    "\n",
    "with open('functions/v_ee.pkl', 'wb') as f:\n",
    "    dill.dump(v_ee_func, f)\n",
    "\n",
    "with open('functions/J.pkl', 'wb') as f:\n",
    "    dill.dump(J_func, f)\n",
    "    \n",
    "with open('functions/J_dot.pkl', 'wb') as f:\n",
    "    dill.dump(J_dot_func, f)\n",
    "\n",
    "with open('functions/cp.pkl', 'wb') as f:\n",
    "    dill.dump(cp_func, f)\n",
    "    \n",
    "with open('functions/v_cp.pkl', 'wb') as f:\n",
    "    dill.dump(v_cp_func, f)\n",
    "\n",
    "with open('functions/r_c.pkl', 'wb') as f:\n",
    "    dill.dump(r_c_func, f)\n",
    "\n",
    "with open('functions/v_c.pkl', 'wb') as f:\n",
    "    dill.dump(v_c_func, f)\n",
    "\n",
    "with open('functions/a_c.pkl', 'wb') as f:\n",
    "    dill.dump(a_c_func, f)\n",
    "\n",
    "with open('functions/ops.pkl', 'wb') as f:\n",
    "    dill.dump(ops_func, f)\n",
    "\n",
    "with open('functions/v_ops.pkl', 'wb') as f:\n",
    "    dill.dump(v_ops_func, f)\n",
    "\n",
    "with open('functions/gam1.pkl', 'wb') as f:\n",
    "    dill.dump(gam_1_func, f)\n",
    "\n",
    "with open('functions/gam2.pkl', 'wb') as f:\n",
    "    dill.dump(gam_2_func, f)\n",
    "\n",
    "with open('functions/gam.pkl', 'wb') as f:\n",
    "    dill.dump(gam_func, f)\n",
    "\n",
    "with open('functions/lam.pkl', 'wb') as f:\n",
    "    dill.dump(lam_func, f)\n",
    "\n",
    "with open('functions/lam_dot.pkl', 'wb') as f:\n",
    "    dill.dump(lam_dot_func, f)\n",
    "\n",
    "with open('functions/inverse_dynamics.pkl', 'wb') as f:\n",
    "    dill.dump(inverse_dynamics_func, f)\n",
    "\n",
    "with open('functions/dynamics.pkl', 'wb') as f:\n",
    "    dill.dump(dynamics_func, f)"
   ]
  }
 ],
 "metadata": {
  "kernelspec": {
   "display_name": "remi_env",
   "language": "python",
   "name": "python3"
  },
  "language_info": {
   "codemirror_mode": {
    "name": "ipython",
    "version": 3
   },
   "file_extension": ".py",
   "mimetype": "text/x-python",
   "name": "python",
   "nbconvert_exporter": "python",
   "pygments_lexer": "ipython3",
   "version": "3.10.16"
  }
 },
 "nbformat": 4,
 "nbformat_minor": 2
}
