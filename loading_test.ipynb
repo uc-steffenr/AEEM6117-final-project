{
 "cells": [
  {
   "cell_type": "code",
   "execution_count": 1,
   "metadata": {},
   "outputs": [],
   "source": [
    "import numpy as np\n",
    "import dill"
   ]
  },
  {
   "cell_type": "code",
   "execution_count": 2,
   "metadata": {},
   "outputs": [],
   "source": [
    "with open('lambdified_dynamics.pkl', \"rb\") as f:\n",
    "    func = dill.load(f)"
   ]
  },
  {
   "cell_type": "code",
   "execution_count": 4,
   "metadata": {},
   "outputs": [
    {
     "data": {
      "text/plain": [
       "array([[-0.02223101],\n",
       "       [ 0.05148234],\n",
       "       [-0.04680213]])"
      ]
     },
     "execution_count": 4,
     "metadata": {},
     "output_type": "execute_result"
    }
   ],
   "source": [
    "y = np.zeros(6)\n",
    "u = np.zeros(3)\n",
    "u[1] = np.deg2rad(30.)\n",
    "\n",
    "rho = np.array([0.5, 0.5, 0.5])\n",
    "m = np.array([250., 25., 25.])\n",
    "I = np.array([25., 2.5, 2.5])\n",
    "b = np.zeros(3)\n",
    "\n",
    "func(y, u, rho, m, I, b)"
   ]
  }
 ],
 "metadata": {
  "kernelspec": {
   "display_name": "py10",
   "language": "python",
   "name": "python3"
  },
  "language_info": {
   "codemirror_mode": {
    "name": "ipython",
    "version": 3
   },
   "file_extension": ".py",
   "mimetype": "text/x-python",
   "name": "python",
   "nbconvert_exporter": "python",
   "pygments_lexer": "ipython3",
   "version": "3.10.8"
  }
 },
 "nbformat": 4,
 "nbformat_minor": 2
}
